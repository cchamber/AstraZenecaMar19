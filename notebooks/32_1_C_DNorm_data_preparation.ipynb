{
 "cells": [
  {
   "cell_type": "code",
   "execution_count": 2,
   "metadata": {},
   "outputs": [],
   "source": [
    "import pandas as pd\n",
    "import os\n",
    "import glob\n",
    "from shutil import copyfile as copy\n",
    "\n",
    "inputPath = '../data/records_samples/'\n",
    "outputPath = '../src/ext/DNorm-0.0.7/'\n",
    "pklPath = '../data/interim'\n",
    "\n",
    "if os.path.isdir(outputPath)!=1:\n",
    "    os.mkdir(outputPath)"
   ]
  },
  {
   "cell_type": "markdown",
   "metadata": {},
   "source": [
    "# 1.\n",
    "# Load dataframe with records\n",
    "Requires records.pkl file in /data/records_sample\n",
    "\n",
    "# Load input for DNorm\n",
    "Make the input data for DNorm from data/records_sample/records.pkl.\n",
    " - For all records: all_rows=1\n",
    " - For fixed number, all_rows=0 and n_rows=[number of rows you want]\n",
    " \n",
    "This will output DNorm input data to data/DNorm_input.txt\n",
    " \n",
    "Put file in DNorm folder and run DNorm"
   ]
  },
  {
   "cell_type": "code",
   "execution_count": null,
   "metadata": {},
   "outputs": [],
   "source": [
    "df_record = pd.read_pickle(os.path.join(inputPath,'records.pkl'))\n",
    "\n",
    "# This cell creates input in the form of\n",
    "# 10192393|t|A common human skin tumour is caused by activating mutations in beta-catenin.\n",
    "# 10192393|a|WNT signalling orchestrates a number of developmental programs. In response to this stimulus, cytoplasmic beta-catenin (encoded by CTNNB1) is stabilized, enabling downs$\n",
    "# for the more advanced function ./ApplyDNorm\n",
    "\n",
    "all_rows = 1\n",
    "n_rows = 10\n",
    "\n",
    "if all_rows==1:\n",
    "    n_rows = len(df_record)\n",
    "\n",
    "rec4input = df_record.loc[:n_rows,:]\n",
    "\n",
    "outF = open(os.path.join(outputPath, 'dnorm_input.txt'), \"w\")\n",
    "# build list of strings\n",
    "rec4input = rec4input.reset_index()\n",
    "for i in range(len(rec4input)):\n",
    "    Id = rec4input.loc[i,:].Id\n",
    "    title = rec4input.loc[i,:].title.replace('|','')\n",
    "    summary = rec4input.loc[i,:].summary.replace('|','')\n",
    "    # remove | characters from title and summary\n",
    "    outF.write(Id+'|t|'+title)\n",
    "    outF.write(\"\\n\")\n",
    "    outF.write(Id+'|a|'+summary)\n",
    "    outF.write(\"\\n\")"
   ]
  },
  {
   "cell_type": "markdown",
   "metadata": {},
   "source": [
    "# 2. \n",
    "# Turn DNorm output into pandas df \n",
    " - After running DNorm, put output text file in data/DNorm \n",
    " - Save output text file as pandas dataframe\n"
   ]
  },
  {
   "cell_type": "code",
   "execution_count": null,
   "metadata": {},
   "outputs": [],
   "source": [
    "#this cell takes the output from the more advanced function ./applyDNorm\n",
    "\n",
    "output_file_path = os.path.join(outputPath, 'dnorm_output.txt')\n",
    "\n",
    "with open(output_file_path,'r') as f:\n",
    "    data = f.read().splitlines()\n",
    "    \n",
    "table = [d.split('\\t') for d in data if len(d.split('\\t'))>1]\n",
    "headers = ['Id', 'start', 'end', 'disease_tag', 'tag_type', 'ONTid']\n",
    "df = pd.DataFrame(table, columns=headers)\n",
    "\n",
    "s = df.ONTid.str.split(':')\n",
    "df_aux = pd.DataFrame.from_items(zip(s.index, s.values)).T\n",
    "df_aux.columns = ['ont', 'unique_id']\n",
    "df['ont'] = df_aux['ont']\n",
    "df['unique_id'] = df_aux['unique_id']\n",
    "df = df.drop('ONTid', axis = 1)\n",
    "\n",
    "df = pd.merge(df_record[['Id', 'PDAT']], df, on='Id', how='outer')\n",
    "\n",
    "df.to_pickle(os.path.join(pklPath,'geo_dnorm.pkl'))"
   ]
  }
 ],
 "metadata": {
  "kernelspec": {
   "display_name": "Python 3",
   "language": "python",
   "name": "python3"
  },
  "language_info": {
   "codemirror_mode": {
    "name": "ipython",
    "version": 3
   },
   "file_extension": ".py",
   "mimetype": "text/x-python",
   "name": "python",
   "nbconvert_exporter": "python",
   "pygments_lexer": "ipython3",
   "version": "3.7.1"
  }
 },
 "nbformat": 4,
 "nbformat_minor": 2
}
