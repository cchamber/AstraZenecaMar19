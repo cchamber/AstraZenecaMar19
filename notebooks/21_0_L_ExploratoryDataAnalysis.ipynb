{
 "cells": [
  {
   "cell_type": "markdown",
   "metadata": {},
   "source": [
    "## Imports"
   ]
  },
  {
   "cell_type": "code",
   "execution_count": 1,
   "metadata": {},
   "outputs": [],
   "source": [
    "# Pandas, Numpy and Matplotlib\n",
    "import pandas as pd\n",
    "import numpy as np\n",
    "import matplotlib.pyplot as plt\n",
    "%matplotlib inline"
   ]
  },
  {
   "cell_type": "code",
   "execution_count": 2,
   "metadata": {},
   "outputs": [],
   "source": [
    "# Import All nltk\n",
    "import nltk\n",
    "#nltk.download_shell()"
   ]
  },
  {
   "cell_type": "markdown",
   "metadata": {},
   "source": [
    "# Get the Data"
   ]
  },
  {
   "cell_type": "code",
   "execution_count": 3,
   "metadata": {},
   "outputs": [
    {
     "name": "stdout",
     "output_type": "stream",
     "text": [
      "CPU times: user 21.9 s, sys: 10.1 s, total: 32 s\n",
      "Wall time: 33.7 s\n"
     ]
    }
   ],
   "source": [
    "%%time\n",
    "# Set name of file\n",
    "filename = '../data/interim/records.pkl'\n",
    "#filename = '../data/interim/samples.pkl'\n",
    "\n",
    "# Read to DataFrame\n",
    "df = pd.read_pickle(filename)"
   ]
  },
  {
   "cell_type": "code",
   "execution_count": 4,
   "metadata": {},
   "outputs": [
    {
     "data": {
      "text/plain": [
       "10536"
      ]
     },
     "execution_count": 4,
     "metadata": {},
     "output_type": "execute_result"
    }
   ],
   "source": [
    "# Count records with links to PubMed\n",
    "df[(df['PubMedIds'].apply(len)==0)]['Id'].count()"
   ]
  },
  {
   "cell_type": "code",
   "execution_count": 5,
   "metadata": {},
   "outputs": [
    {
     "data": {
      "text/html": [
       "<div>\n",
       "<style scoped>\n",
       "    .dataframe tbody tr th:only-of-type {\n",
       "        vertical-align: middle;\n",
       "    }\n",
       "\n",
       "    .dataframe tbody tr th {\n",
       "        vertical-align: top;\n",
       "    }\n",
       "\n",
       "    .dataframe thead th {\n",
       "        text-align: right;\n",
       "    }\n",
       "</style>\n",
       "<table border=\"1\" class=\"dataframe\">\n",
       "  <thead>\n",
       "    <tr style=\"text-align: right;\">\n",
       "      <th></th>\n",
       "      <th>Id</th>\n",
       "      <th>summary</th>\n",
       "      <th>length</th>\n",
       "    </tr>\n",
       "  </thead>\n",
       "  <tbody>\n",
       "    <tr>\n",
       "      <th>0</th>\n",
       "      <td>200000001</td>\n",
       "      <td>This series represents a group of cutaneous ma...</td>\n",
       "      <td>218</td>\n",
       "    </tr>\n",
       "    <tr>\n",
       "      <th>1</th>\n",
       "      <td>200000003</td>\n",
       "      <td>We investigated the changes in gene expression...</td>\n",
       "      <td>1289</td>\n",
       "    </tr>\n",
       "    <tr>\n",
       "      <th>2</th>\n",
       "      <td>200000010</td>\n",
       "      <td>Human retinal and RPE SAGE libraries. Profile ...</td>\n",
       "      <td>217</td>\n",
       "    </tr>\n",
       "    <tr>\n",
       "      <th>3</th>\n",
       "      <td>200000014</td>\n",
       "      <td>This series represents the Cancer Genome Anato...</td>\n",
       "      <td>870</td>\n",
       "    </tr>\n",
       "    <tr>\n",
       "      <th>4</th>\n",
       "      <td>200000016</td>\n",
       "      <td>This series represents the data set from the p...</td>\n",
       "      <td>5727</td>\n",
       "    </tr>\n",
       "  </tbody>\n",
       "</table>\n",
       "</div>"
      ],
      "text/plain": [
       "          Id                                            summary  length\n",
       "0  200000001  This series represents a group of cutaneous ma...     218\n",
       "1  200000003  We investigated the changes in gene expression...    1289\n",
       "2  200000010  Human retinal and RPE SAGE libraries. Profile ...     217\n",
       "3  200000014  This series represents the Cancer Genome Anato...     870\n",
       "4  200000016  This series represents the data set from the p...    5727"
      ]
     },
     "execution_count": 5,
     "metadata": {},
     "output_type": "execute_result"
    }
   ],
   "source": [
    "# Set entries: Choose first N records and count characters in summary\n",
    "N_entries = 10000\n",
    "entries = pd.DataFrame(df[['Id','summary']].iloc[:N_entries])\n",
    "entries['length'] = entries['summary'].apply(len)\n",
    "entries.head()"
   ]
  },
  {
   "cell_type": "markdown",
   "metadata": {},
   "source": [
    "# Separate Train/Test"
   ]
  },
  {
   "cell_type": "code",
   "execution_count": 6,
   "metadata": {},
   "outputs": [
    {
     "name": "stdout",
     "output_type": "stream",
     "text": [
      "Shapes Train/Test:  (5040, 3) (4960, 3)\n"
     ]
    }
   ],
   "source": [
    "# Set train/total fraction\n",
    "train_fraction = 0.5\n",
    "\n",
    "# Construct mask\n",
    "mask = np.random.rand(len(entries)) < train_fraction\n",
    "\n",
    "# Select samples\n",
    "train_entries = entries[mask]\n",
    "test_entries = entries[~mask]\n",
    "\n",
    "# Echo shapes\n",
    "print('Shapes Train/Test: ', train_entries.shape, test_entries.shape)"
   ]
  },
  {
   "cell_type": "markdown",
   "metadata": {},
   "source": [
    "# Summary Length Analysis"
   ]
  },
  {
   "cell_type": "code",
   "execution_count": 7,
   "metadata": {},
   "outputs": [
    {
     "data": {
      "text/plain": [
       "(0, 3000)"
      ]
     },
     "execution_count": 7,
     "metadata": {},
     "output_type": "execute_result"
    },
    {
     "data": {
      "image/png": "[encoded data removed]",
      "text/plain": [
       "<Figure size 432x288 with 1 Axes>"
      ]
     },
     "metadata": {
      "needs_background": "light"
     },
     "output_type": "display_data"
    }
   ],
   "source": [
    "# Grab figure and axes\n",
    "fig, axes = plt.subplots(nrows=1, ncols=1)\n",
    "\n",
    "# Plot histograms\n",
    "train_entries.plot(kind='hist', bins=100, alpha=0.5, ax=axes);\n",
    "test_entries.plot( kind='hist', bins=100, alpha=0.5, ax=axes);\n",
    "\n",
    "# Set plotting options\n",
    "axes.set_xlabel('Length of Summary')\n",
    "axes.set_ylabel('Count')\n",
    "axes.set_title('Histogram of summary lengths')\n",
    "axes.legend(['train','test'])\n",
    "axes.set_xlim(0,3000)"
   ]
  },
  {
   "cell_type": "markdown",
   "metadata": {},
   "source": [
    "# Tokenize"
   ]
  },
  {
   "cell_type": "code",
   "execution_count": 8,
   "metadata": {},
   "outputs": [],
   "source": [
    "# Import tokenizer\n",
    "from nltk.tokenize import PunktSentenceTokenizer\n",
    "\n",
    "# Instantiate and Train custom sentence tokenizer\n",
    "custom_tokenizer = PunktSentenceTokenizer('. '.join(train_entries['summary']))"
   ]
  },
  {
   "cell_type": "code",
   "execution_count": 9,
   "metadata": {},
   "outputs": [
    {
     "name": "stdout",
     "output_type": "stream",
     "text": [
      "_____RAW_____\n",
      "This series represents a group of cutaneous malignant melanomas and unrelated controls which were clustered based on correlation coefficients calculated through a comparison of gene expression profiles. Keywords: other\n",
      "\n",
      "_____TOKENIZE SENTENCES_____\n",
      "['This series represents a group of cutaneous malignant melanomas and unrelated controls which were clustered based on correlation coefficients calculated through a comparison of gene expression profiles.', 'Keywords: other']\n"
     ]
    }
   ],
   "source": [
    "# Check first sentence\n",
    "print('_____RAW_____')\n",
    "print(test_entries['summary'].iloc[0])\n",
    "\n",
    "print('\\n_____TOKENIZE SENTENCES_____')\n",
    "print(custom_tokenizer.tokenize(test_entries['summary'].iloc[0]))"
   ]
  },
  {
   "cell_type": "code",
   "execution_count": 10,
   "metadata": {},
   "outputs": [],
   "source": [
    "# Initialize lemmatizer from nltk\n",
    "from nltk.stem import WordNetLemmatizer\n",
    "lemmatizer = WordNetLemmatizer()"
   ]
  },
  {
   "cell_type": "code",
   "execution_count": 16,
   "metadata": {},
   "outputs": [
    {
     "data": {
      "text/html": [
       "<div>\n",
       "<style scoped>\n",
       "    .dataframe tbody tr th:only-of-type {\n",
       "        vertical-align: middle;\n",
       "    }\n",
       "\n",
       "    .dataframe tbody tr th {\n",
       "        vertical-align: top;\n",
       "    }\n",
       "\n",
       "    .dataframe thead th {\n",
       "        text-align: right;\n",
       "    }\n",
       "</style>\n",
       "<table border=\"1\" class=\"dataframe\">\n",
       "  <thead>\n",
       "    <tr style=\"text-align: right;\">\n",
       "      <th></th>\n",
       "      <th>Id</th>\n",
       "      <th>Tags</th>\n",
       "    </tr>\n",
       "  </thead>\n",
       "  <tbody>\n",
       "    <tr>\n",
       "      <th>0</th>\n",
       "      <td>200000001</td>\n",
       "      <td>{comparison, gene, group, expression, coeffici...</td>\n",
       "    </tr>\n",
       "    <tr>\n",
       "      <th>1</th>\n",
       "      <td>200000010</td>\n",
       "      <td>{human, sage, gene, expression, analysis, rpe,...</td>\n",
       "    </tr>\n",
       "    <tr>\n",
       "      <th>2</th>\n",
       "      <td>200000040</td>\n",
       "      <td>{human, array, type, plya, microarrays, keywor...</td>\n",
       "    </tr>\n",
       "    <tr>\n",
       "      <th>3</th>\n",
       "      <td>200000041</td>\n",
       "      <td>{gene, expression, effect, target, keywords, e...</td>\n",
       "    </tr>\n",
       "    <tr>\n",
       "      <th>4</th>\n",
       "      <td>200000043</td>\n",
       "      <td>{biology, microarrays, protein, antibody, keyw...</td>\n",
       "    </tr>\n",
       "  </tbody>\n",
       "</table>\n",
       "</div>"
      ],
      "text/plain": [
       "          Id                                               Tags\n",
       "0  200000001  {comparison, gene, group, expression, coeffici...\n",
       "1  200000010  {human, sage, gene, expression, analysis, rpe,...\n",
       "2  200000040  {human, array, type, plya, microarrays, keywor...\n",
       "3  200000041  {gene, expression, effect, target, keywords, e...\n",
       "4  200000043  {biology, microarrays, protein, antibody, keyw..."
      ]
     },
     "execution_count": 16,
     "metadata": {},
     "output_type": "execute_result"
    }
   ],
   "source": [
    "# Gather nouns for every summary\n",
    "from nltk.corpus import stopwords\n",
    "import string\n",
    "\n",
    "# Define column names\n",
    "cols = 'Id Tags'.split()\n",
    "\n",
    "# Define stopwords\n",
    "stop_words = set(stopwords.words(\"English\"))\n",
    "\n",
    "# Define DataFrame\n",
    "df = pd.DataFrame(columns=cols)\n",
    "\n",
    "# For every summary\n",
    "for index, entry in test_entries.iloc[:250].iterrows():\n",
    "    \n",
    "    # Initialize list of nouns\n",
    "    nouns = set()\n",
    "    \n",
    "    # Obtain summary and id\n",
    "    idd = entry['Id']\n",
    "    summary = entry['summary']\n",
    "    \n",
    "    # Sentence-Tokenize every entry\n",
    "    for sentence in custom_tokenizer.tokenize(summary):\n",
    "        \n",
    "        # Word-tokenize every sentence\n",
    "        words = nltk.word_tokenize(sentence)\n",
    "        \n",
    "        # POS tagg every word\n",
    "        tags = nltk.pos_tag(words)\n",
    "        \n",
    "        # From all tags choose only.....\n",
    "        for tag in tags:\n",
    "            \n",
    "            # Get lemmatized version\n",
    "            lemmatized = lemmatizer.lemmatize(tag[0].lower())\n",
    "            \n",
    "            # Is noun ?\n",
    "            mask1 = tag[1] in 'NN NNS NNP NNPS'.split() \n",
    "            \n",
    "            # Is stop word ?\n",
    "            mask2 = lemmatized not in stop_words\n",
    "            \n",
    "            # Is/Contains punctuation\n",
    "            mask3 = not bool(set(lemmatized) & set(string.punctuation))\n",
    "              \n",
    "            #print(lemmatized, mask1, mask2, mask3, mask1 and mask2 and mask3)\n",
    "            \n",
    "            # Only then append\n",
    "            if mask1 and mask2 and mask3:\n",
    "                nouns.add(lemmatized)\n",
    "    \n",
    "    # Create Record \n",
    "    record = pd.Series((idd, nouns),index=cols)\n",
    "    \n",
    "    # Append entry to DataFrame\n",
    "    df = df.append(record,ignore_index=True)\n",
    "\n",
    "# Echo\n",
    "df.head()"
   ]
  },
  {
   "cell_type": "markdown",
   "metadata": {},
   "source": [
    "# Create links between #tags in same summary"
   ]
  },
  {
   "cell_type": "code",
   "execution_count": 17,
   "metadata": {},
   "outputs": [
    {
     "data": {
      "text/plain": [
       "190361"
      ]
     },
     "execution_count": 17,
     "metadata": {},
     "output_type": "execute_result"
    }
   ],
   "source": [
    "links = set()\n",
    "for index, record in df.iterrows():\n",
    "    for tag1 in record['Tags']:\n",
    "        for tag2 in record['Tags']:\n",
    "            links.add((tag1, tag2))\n",
    "len(links)"
   ]
  },
  {
   "cell_type": "code",
   "execution_count": 18,
   "metadata": {},
   "outputs": [],
   "source": [
    "import csv\n",
    "\n",
    "with open('Links_250.csv', 'w') as outfile:\n",
    "    w = csv.writer(outfile, delimiter=',', quotechar='\"')\n",
    "    w.writerow(['Source','Target'])\n",
    "    for element in links:\n",
    "        #print(list(element))\n",
    "        w.writerow(element)"
   ]
  },
  {
   "cell_type": "code",
   "execution_count": null,
   "metadata": {},
   "outputs": [],
   "source": []
  },
  {
   "cell_type": "code",
   "execution_count": null,
   "metadata": {},
   "outputs": [],
   "source": []
  },
  {
   "cell_type": "code",
   "execution_count": null,
   "metadata": {},
   "outputs": [],
   "source": []
  },
  {
   "cell_type": "code",
   "execution_count": null,
   "metadata": {},
   "outputs": [],
   "source": []
  }
 ],
 "metadata": {
  "kernelspec": {
   "display_name": "Python 3",
   "language": "python",
   "name": "python3"
  },
  "language_info": {
   "codemirror_mode": {
    "name": "ipython",
    "version": 3
   },
   "file_extension": ".py",
   "mimetype": "text/x-python",
   "name": "python",
   "nbconvert_exporter": "python",
   "pygments_lexer": "ipython3",
   "version": "3.7.2"
  }
 },
 "nbformat": 4,
 "nbformat_minor": 2
}
