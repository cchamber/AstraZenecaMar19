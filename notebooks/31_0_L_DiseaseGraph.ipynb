{
 "cells": [
  {
   "cell_type": "markdown",
   "metadata": {},
   "source": [
    "# Imports"
   ]
  },
  {
   "cell_type": "code",
   "execution_count": 2,
   "metadata": {},
   "outputs": [],
   "source": [
    "# Import pandas\n",
    "import pandas as pd\n",
    "\n",
    "# Import matplotlib\n",
    "import matplotlib.pyplot as plt\n",
    "\n",
    "# Import Network X\n",
    "import networkx as nx"
   ]
  },
  {
   "cell_type": "markdown",
   "metadata": {},
   "source": [
    "# Read names_df"
   ]
  },
  {
   "cell_type": "code",
   "execution_count": 4,
   "metadata": {
    "scrolled": true
   },
   "outputs": [
    {
     "data": {
      "text/html": [
       "<div>\n",
       "<style scoped>\n",
       "    .dataframe tbody tr th:only-of-type {\n",
       "        vertical-align: middle;\n",
       "    }\n",
       "\n",
       "    .dataframe tbody tr th {\n",
       "        vertical-align: top;\n",
       "    }\n",
       "\n",
       "    .dataframe thead th {\n",
       "        text-align: right;\n",
       "    }\n",
       "</style>\n",
       "<table border=\"1\" class=\"dataframe\">\n",
       "  <thead>\n",
       "    <tr style=\"text-align: right;\">\n",
       "      <th></th>\n",
       "      <th>category</th>\n",
       "      <th>mesh_heading</th>\n",
       "      <th>mesh_id</th>\n",
       "      <th>mesh_treenumbers</th>\n",
       "    </tr>\n",
       "  </thead>\n",
       "  <tbody>\n",
       "    <tr>\n",
       "      <th>0</th>\n",
       "      <td>D</td>\n",
       "      <td>Calcimycin</td>\n",
       "      <td>D000001</td>\n",
       "      <td>D03.633.100.221.173</td>\n",
       "    </tr>\n",
       "    <tr>\n",
       "      <th>1</th>\n",
       "      <td>D</td>\n",
       "      <td>Temefos</td>\n",
       "      <td>D000002</td>\n",
       "      <td>D02.705.400.625.800</td>\n",
       "    </tr>\n",
       "    <tr>\n",
       "      <th>2</th>\n",
       "      <td>J</td>\n",
       "      <td>Abattoirs</td>\n",
       "      <td>D000003</td>\n",
       "      <td>J01.576.423.200.700.100</td>\n",
       "    </tr>\n",
       "    <tr>\n",
       "      <th>3</th>\n",
       "      <td>L</td>\n",
       "      <td>Abbreviations as Topic</td>\n",
       "      <td>D000004</td>\n",
       "      <td>L01.559.598.400.556.131</td>\n",
       "    </tr>\n",
       "    <tr>\n",
       "      <th>4</th>\n",
       "      <td>A</td>\n",
       "      <td>Abdomen</td>\n",
       "      <td>D000005</td>\n",
       "      <td>A01.923.047</td>\n",
       "    </tr>\n",
       "  </tbody>\n",
       "</table>\n",
       "</div>"
      ],
      "text/plain": [
       "  category            mesh_heading  mesh_id         mesh_treenumbers\n",
       "0        D              Calcimycin  D000001      D03.633.100.221.173\n",
       "1        D                 Temefos  D000002      D02.705.400.625.800\n",
       "2        J               Abattoirs  D000003  J01.576.423.200.700.100\n",
       "3        L  Abbreviations as Topic  D000004  L01.559.598.400.556.131\n",
       "4        A                 Abdomen  D000005              A01.923.047"
      ]
     },
     "execution_count": 4,
     "metadata": {},
     "output_type": "execute_result"
    }
   ],
   "source": [
    "# Set path\n",
    "names_path = '../src/visualization/mesh.pkl'\n",
    "\n",
    "# Read\n",
    "names_df = pd.read_pickle(names_path)\n",
    "\n",
    "# Echo\n",
    "names_df.head()"
   ]
  },
  {
   "cell_type": "markdown",
   "metadata": {},
   "source": [
    "# Construct Gephi labels"
   ]
  },
  {
   "cell_type": "code",
   "execution_count": 6,
   "metadata": {},
   "outputs": [
    {
     "name": "stdout",
     "output_type": "stream",
     "text": [
      "Shape -Before-:  (59748, 4)\n",
      "Shape  -After-:  (29349, 4)\n"
     ]
    },
    {
     "data": {
      "text/html": [
       "<div>\n",
       "<style scoped>\n",
       "    .dataframe tbody tr th:only-of-type {\n",
       "        vertical-align: middle;\n",
       "    }\n",
       "\n",
       "    .dataframe tbody tr th {\n",
       "        vertical-align: top;\n",
       "    }\n",
       "\n",
       "    .dataframe thead th {\n",
       "        text-align: right;\n",
       "    }\n",
       "</style>\n",
       "<table border=\"1\" class=\"dataframe\">\n",
       "  <thead>\n",
       "    <tr style=\"text-align: right;\">\n",
       "      <th></th>\n",
       "      <th>label</th>\n",
       "      <th>id</th>\n",
       "    </tr>\n",
       "  </thead>\n",
       "  <tbody>\n",
       "    <tr>\n",
       "      <th>0</th>\n",
       "      <td>Calcimycin</td>\n",
       "      <td>D000001</td>\n",
       "    </tr>\n",
       "    <tr>\n",
       "      <th>1</th>\n",
       "      <td>Temefos</td>\n",
       "      <td>D000002</td>\n",
       "    </tr>\n",
       "    <tr>\n",
       "      <th>2</th>\n",
       "      <td>Abattoirs</td>\n",
       "      <td>D000003</td>\n",
       "    </tr>\n",
       "    <tr>\n",
       "      <th>3</th>\n",
       "      <td>Abbreviations as Topic</td>\n",
       "      <td>D000004</td>\n",
       "    </tr>\n",
       "    <tr>\n",
       "      <th>4</th>\n",
       "      <td>Abdomen</td>\n",
       "      <td>D000005</td>\n",
       "    </tr>\n",
       "  </tbody>\n",
       "</table>\n",
       "</div>"
      ],
      "text/plain": [
       "                    label       id\n",
       "0              Calcimycin  D000001\n",
       "1                 Temefos  D000002\n",
       "2               Abattoirs  D000003\n",
       "3  Abbreviations as Topic  D000004\n",
       "4                 Abdomen  D000005"
      ]
     },
     "execution_count": 6,
     "metadata": {},
     "output_type": "execute_result"
    }
   ],
   "source": [
    "# Check all entries\n",
    "print('Shape -Before-: ', names_df.shape)\n",
    "\n",
    "# Check non-None entries\n",
    "gephi_labels = names_df.dropna(axis=0)\n",
    "\n",
    "# Check for duplicates\n",
    "gephi_labels = gephi_labels.drop_duplicates(subset='mesh_id', keep='first')\n",
    "\n",
    "# Check all entries - again\n",
    "print('Shape  -After-: ', gephi_labels.shape)\n",
    "\n",
    "# Copy only id and label\n",
    "gephi_labels = gephi_labels.drop(columns='mesh_treenumbers category'.split())\n",
    "\n",
    "# Rename for csv-file\n",
    "gephi_labels = gephi_labels.rename(columns={'mesh_id':'id', 'mesh_heading':'label'})\n",
    "\n",
    "# Save to .csv\n",
    "gephi_labels['id label'.split()].to_csv('titles.csv', index=False)\n",
    "\n",
    "# Echo\n",
    "gephi_labels.head()"
   ]
  },
  {
   "cell_type": "markdown",
   "metadata": {},
   "source": [
    "# Read tags_df"
   ]
  },
  {
   "cell_type": "code",
   "execution_count": 8,
   "metadata": {},
   "outputs": [
    {
     "data": {
      "text/html": [
       "<div>\n",
       "<style scoped>\n",
       "    .dataframe tbody tr th:only-of-type {\n",
       "        vertical-align: middle;\n",
       "    }\n",
       "\n",
       "    .dataframe tbody tr th {\n",
       "        vertical-align: top;\n",
       "    }\n",
       "\n",
       "    .dataframe thead th {\n",
       "        text-align: right;\n",
       "    }\n",
       "</style>\n",
       "<table border=\"1\" class=\"dataframe\">\n",
       "  <thead>\n",
       "    <tr style=\"text-align: right;\">\n",
       "      <th></th>\n",
       "      <th>geo_id</th>\n",
       "      <th>nsamples</th>\n",
       "      <th>date</th>\n",
       "      <th>mesh_id</th>\n",
       "      <th>mesh_heading</th>\n",
       "      <th>category</th>\n",
       "      <th>method</th>\n",
       "    </tr>\n",
       "  </thead>\n",
       "  <tbody>\n",
       "    <tr>\n",
       "      <th>0</th>\n",
       "      <td>200000001</td>\n",
       "      <td>38</td>\n",
       "      <td>2001/01/22</td>\n",
       "      <td>D011379</td>\n",
       "      <td>Prognosis</td>\n",
       "      <td>E</td>\n",
       "      <td>pmid</td>\n",
       "    </tr>\n",
       "    <tr>\n",
       "      <th>1</th>\n",
       "      <td>200000001</td>\n",
       "      <td>38</td>\n",
       "      <td>2001/01/22</td>\n",
       "      <td>D016000</td>\n",
       "      <td>Cluster Analysis</td>\n",
       "      <td>E</td>\n",
       "      <td>pmid</td>\n",
       "    </tr>\n",
       "    <tr>\n",
       "      <th>2</th>\n",
       "      <td>200000001</td>\n",
       "      <td>38</td>\n",
       "      <td>2001/01/22</td>\n",
       "      <td>D016000</td>\n",
       "      <td>Cluster Analysis</td>\n",
       "      <td>N</td>\n",
       "      <td>pmid</td>\n",
       "    </tr>\n",
       "    <tr>\n",
       "      <th>3</th>\n",
       "      <td>200000001</td>\n",
       "      <td>38</td>\n",
       "      <td>2001/01/22</td>\n",
       "      <td>D008297</td>\n",
       "      <td>Male</td>\n",
       "      <td>Sex</td>\n",
       "      <td>pmid</td>\n",
       "    </tr>\n",
       "    <tr>\n",
       "      <th>4</th>\n",
       "      <td>200000001</td>\n",
       "      <td>38</td>\n",
       "      <td>2001/01/22</td>\n",
       "      <td>D012333</td>\n",
       "      <td>RNA, Messenger</td>\n",
       "      <td>D</td>\n",
       "      <td>pmid</td>\n",
       "    </tr>\n",
       "  </tbody>\n",
       "</table>\n",
       "</div>"
      ],
      "text/plain": [
       "      geo_id  nsamples        date  mesh_id      mesh_heading category method\n",
       "0  200000001        38  2001/01/22  D011379         Prognosis        E   pmid\n",
       "1  200000001        38  2001/01/22  D016000  Cluster Analysis        E   pmid\n",
       "2  200000001        38  2001/01/22  D016000  Cluster Analysis        N   pmid\n",
       "3  200000001        38  2001/01/22  D008297              Male      Sex   pmid\n",
       "4  200000001        38  2001/01/22  D012333    RNA, Messenger        D   pmid"
      ]
     },
     "execution_count": 8,
     "metadata": {},
     "output_type": "execute_result"
    }
   ],
   "source": [
    "# Set path\n",
    "tags_path = '../src/visualization/geo.pkl'\n",
    "\n",
    "# Read\n",
    "tags_df = pd.read_pickle(tags_path)\n",
    "\n",
    "# Echo\n",
    "tags_df.head()"
   ]
  },
  {
   "cell_type": "markdown",
   "metadata": {},
   "source": [
    "# Clean Data"
   ]
  },
  {
   "cell_type": "code",
   "execution_count": 9,
   "metadata": {},
   "outputs": [
    {
     "name": "stdout",
     "output_type": "stream",
     "text": [
      "Shape -before-:  (701572, 7)\n",
      "Shape  -after-:  (699903, 7)\n"
     ]
    },
    {
     "data": {
      "text/html": [
       "<div>\n",
       "<style scoped>\n",
       "    .dataframe tbody tr th:only-of-type {\n",
       "        vertical-align: middle;\n",
       "    }\n",
       "\n",
       "    .dataframe tbody tr th {\n",
       "        vertical-align: top;\n",
       "    }\n",
       "\n",
       "    .dataframe thead th {\n",
       "        text-align: right;\n",
       "    }\n",
       "</style>\n",
       "<table border=\"1\" class=\"dataframe\">\n",
       "  <thead>\n",
       "    <tr style=\"text-align: right;\">\n",
       "      <th></th>\n",
       "      <th>geo_id</th>\n",
       "      <th>nsamples</th>\n",
       "      <th>date</th>\n",
       "      <th>mesh_id</th>\n",
       "      <th>mesh_heading</th>\n",
       "      <th>category</th>\n",
       "      <th>method</th>\n",
       "    </tr>\n",
       "  </thead>\n",
       "  <tbody>\n",
       "    <tr>\n",
       "      <th>0</th>\n",
       "      <td>200000001</td>\n",
       "      <td>38</td>\n",
       "      <td>2001/01/22</td>\n",
       "      <td>D011379</td>\n",
       "      <td>Prognosis</td>\n",
       "      <td>E</td>\n",
       "      <td>pmid</td>\n",
       "    </tr>\n",
       "    <tr>\n",
       "      <th>1</th>\n",
       "      <td>200000001</td>\n",
       "      <td>38</td>\n",
       "      <td>2001/01/22</td>\n",
       "      <td>D016000</td>\n",
       "      <td>Cluster Analysis</td>\n",
       "      <td>E</td>\n",
       "      <td>pmid</td>\n",
       "    </tr>\n",
       "    <tr>\n",
       "      <th>2</th>\n",
       "      <td>200000001</td>\n",
       "      <td>38</td>\n",
       "      <td>2001/01/22</td>\n",
       "      <td>D016000</td>\n",
       "      <td>Cluster Analysis</td>\n",
       "      <td>N</td>\n",
       "      <td>pmid</td>\n",
       "    </tr>\n",
       "    <tr>\n",
       "      <th>3</th>\n",
       "      <td>200000001</td>\n",
       "      <td>38</td>\n",
       "      <td>2001/01/22</td>\n",
       "      <td>D008297</td>\n",
       "      <td>Male</td>\n",
       "      <td>Sex</td>\n",
       "      <td>pmid</td>\n",
       "    </tr>\n",
       "    <tr>\n",
       "      <th>4</th>\n",
       "      <td>200000001</td>\n",
       "      <td>38</td>\n",
       "      <td>2001/01/22</td>\n",
       "      <td>D012333</td>\n",
       "      <td>RNA, Messenger</td>\n",
       "      <td>D</td>\n",
       "      <td>pmid</td>\n",
       "    </tr>\n",
       "  </tbody>\n",
       "</table>\n",
       "</div>"
      ],
      "text/plain": [
       "      geo_id  nsamples        date  mesh_id      mesh_heading category method\n",
       "0  200000001        38  2001/01/22  D011379         Prognosis        E   pmid\n",
       "1  200000001        38  2001/01/22  D016000  Cluster Analysis        E   pmid\n",
       "2  200000001        38  2001/01/22  D016000  Cluster Analysis        N   pmid\n",
       "3  200000001        38  2001/01/22  D008297              Male      Sex   pmid\n",
       "4  200000001        38  2001/01/22  D012333    RNA, Messenger        D   pmid"
      ]
     },
     "execution_count": 9,
     "metadata": {},
     "output_type": "execute_result"
    }
   ],
   "source": [
    "# Check shape\n",
    "print('Shape -before-: ', tags_df.shape)\n",
    "\n",
    "# Drop NaNs\n",
    "tags_df.dropna(axis=0,inplace=True)\n",
    "\n",
    "# Delete duplicates\n",
    "tags_df = tags_df.drop_duplicates()\n",
    "\n",
    "# Only select summaries with +1 tag\n",
    "tags_by_summary = tags_df['geo_id mesh_id'.split()].groupby('geo_id').count().reset_index() # Count tags per summary\n",
    "good_summaries = tags_by_summary[tags_by_summary['mesh_id']>1] # Select abstracts with more than one tag\n",
    "clean_tags = pd.merge(tags_df, good_summaries, on='geo_id') # Inner Join\n",
    "clean_tags = clean_tags.drop(columns='mesh_id_y') # Drop column from inner join\n",
    "clean_tags = clean_tags.rename(columns={'mesh_id_x':'mesh_id'}) # Rename key column\n",
    "                             \n",
    "# Check shape -again\n",
    "print('Shape  -after-: ', tags_df.shape)\n",
    "\n",
    "# Echo\n",
    "tags_df.head()"
   ]
  },
  {
   "cell_type": "markdown",
   "metadata": {},
   "source": [
    "# Construct MultiGraph"
   ]
  },
  {
   "cell_type": "code",
   "execution_count": 62,
   "metadata": {},
   "outputs": [
    {
     "name": "stdout",
     "output_type": "stream",
     "text": [
      "CPU times: user 34.1 s, sys: 116 ms, total: 34.2 s\n",
      "Wall time: 34.2 s\n"
     ]
    }
   ],
   "source": [
    "%%time\n",
    "\n",
    "# Define an empty Multi Graph\n",
    "az_MG = nx.MultiGraph()\n",
    "\n",
    "# Cycle through summary ids\n",
    "for gid in clean_tags['geo_id'].unique()[:1000]: # 37k in total (Would take approx30 mins for 50k)\n",
    "    \n",
    "    # Construct all possible pairs\n",
    "    new_graph = nx.complete_graph(clean_tags[clean_tags['geo_id']==gid]['mesh_id'])\n",
    "    \n",
    "    # Append it to multigraph\n",
    "    az_MG.add_edges_from(new_graph.edges())"
   ]
  },
  {
   "cell_type": "code",
   "execution_count": 64,
   "metadata": {},
   "outputs": [
    {
     "name": "stdout",
     "output_type": "stream",
     "text": [
      "Estimated time for [37214] samples:  19.644249784923034 [min]\n",
      "{'memory': None, 'steps': [('polynomialfeatures', PolynomialFeatures(degree=2, include_bias=True, interaction_only=False)), ('ridge', Ridge(alpha=1.0, copy_X=True, fit_intercept=True, max_iter=None,\n",
      "   normalize=False, random_state=None, solver='auto', tol=0.001))], 'polynomialfeatures': PolynomialFeatures(degree=2, include_bias=True, interaction_only=False), 'ridge': Ridge(alpha=1.0, copy_X=True, fit_intercept=True, max_iter=None,\n",
      "   normalize=False, random_state=None, solver='auto', tol=0.001), 'polynomialfeatures__degree': 2, 'polynomialfeatures__include_bias': True, 'polynomialfeatures__interaction_only': False, 'ridge__alpha': 1.0, 'ridge__copy_X': True, 'ridge__fit_intercept': True, 'ridge__max_iter': None, 'ridge__normalize': False, 'ridge__random_state': None, 'ridge__solver': 'auto', 'ridge__tol': 0.001}\n"
     ]
    },
    {
     "data": {
      "image/png": "[encoded data removed]",
      "text/plain": [
       "<Figure size 432x288 with 1 Axes>"
      ]
     },
     "metadata": {
      "needs_background": "light"
     },
     "output_type": "display_data"
    }
   ],
   "source": [
    "from sklearn.linear_model import Ridge\n",
    "from sklearn.preprocessing import PolynomialFeatures\n",
    "from sklearn.pipeline import make_pipeline\n",
    "import numpy as np\n",
    "\n",
    "degree=2\n",
    "samples=(1,    5,    10,   50,  100, 500, 1000) # Number of geoID samples \n",
    "times=(  0.069,0.209,0.371,1.75,3.42,17.3,34.5) # Time to construct multigraph\n",
    "wanted = (5000,10000,50000,100000)               # Total samples\n",
    "\n",
    "X = np.array(samples)[:,np.newaxis]\n",
    "y = np.array(times)\n",
    "X_pred = np.array(wanted)[:,np.newaxis]\n",
    "\n",
    "model = make_pipeline(PolynomialFeatures(degree=2), Ridge())\n",
    "model.fit(X, y)\n",
    "y_pred = model.predict(X_pred)\n",
    "\n",
    "X_particular = np.array([0,clean_tags['geo_id'].nunique()])[:,np.newaxis]\n",
    "y_particular = model.predict(X_particular)\n",
    "print('Estimated time for', X_particular[1] , 'samples: ', y_particular[1]/60,'[min]' )\n",
    "print(model.get_params())\n",
    "\n",
    "fig = plt.figure()\n",
    "ax = fig.add_axes([0,0,1,1])\n",
    "\n",
    "ax.set_xscale('log')\n",
    "ax.set_yscale('log')\n",
    "\n",
    "ax = plt.plot(X, y, '-o')\n",
    "ax = plt.plot(X_pred, y_pred, '-x')\n",
    "\n",
    "plt.show()"
   ]
  },
  {
   "cell_type": "code",
   "execution_count": null,
   "metadata": {},
   "outputs": [],
   "source": []
  },
  {
   "cell_type": "code",
   "execution_count": 41,
   "metadata": {
    "scrolled": true
   },
   "outputs": [],
   "source": []
  },
  {
   "cell_type": "code",
   "execution_count": null,
   "metadata": {},
   "outputs": [],
   "source": []
  },
  {
   "cell_type": "code",
   "execution_count": 9,
   "metadata": {},
   "outputs": [],
   "source": [
    "# Create weighted graph\n",
    "az = nx.Graph()\n",
    "for u,v,data in az_MG.edges(data=True):\n",
    "    w = data['weight'] if 'weight' in data else 1.0\n",
    "    if az.has_edge(u,v):\n",
    "        az[u][v]['weight'] += w\n",
    "    else:\n",
    "        az.add_edge(u, v, weight=w)"
   ]
  },
  {
   "cell_type": "code",
   "execution_count": 10,
   "metadata": {},
   "outputs": [
    {
     "name": "stderr",
     "output_type": "stream",
     "text": [
      "/Users/luvela/anaconda3/lib/python3.7/site-packages/networkx/drawing/nx_pylab.py:611: MatplotlibDeprecationWarning: isinstance(..., numbers.Number)\n",
      "  if cb.is_numlike(alpha):\n"
     ]
    },
    {
     "data": {
      "image/png": "[encoded data removed]",
      "text/plain": [
       "<Figure size 432x288 with 1 Axes>"
      ]
     },
     "metadata": {},
     "output_type": "display_data"
    }
   ],
   "source": [
    "# Draw it\n",
    "nx.draw(az)\n",
    "plt.show()"
   ]
  },
  {
   "cell_type": "code",
   "execution_count": null,
   "metadata": {},
   "outputs": [],
   "source": []
  },
  {
   "cell_type": "code",
   "execution_count": null,
   "metadata": {},
   "outputs": [],
   "source": []
  }
 ],
 "metadata": {
  "kernelspec": {
   "display_name": "Python 3",
   "language": "python",
   "name": "python3"
  },
  "language_info": {
   "codemirror_mode": {
    "name": "ipython",
    "version": 3
   },
   "file_extension": ".py",
   "mimetype": "text/x-python",
   "name": "python",
   "nbconvert_exporter": "python",
   "pygments_lexer": "ipython3",
   "version": "3.7.1"
  }
 },
 "nbformat": 4,
 "nbformat_minor": 2
}
