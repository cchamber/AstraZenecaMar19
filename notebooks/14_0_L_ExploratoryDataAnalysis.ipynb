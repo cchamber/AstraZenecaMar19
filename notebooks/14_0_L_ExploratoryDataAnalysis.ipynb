{
 "cells": [
  {
   "cell_type": "raw",
   "metadata": {},
   "source": [
    "# Script to Count Word Frequency and Plot"
   ]
  },
  {
   "cell_type": "markdown",
   "metadata": {},
   "source": [
    "## Load Into DataFrame"
   ]
  },
  {
   "cell_type": "code",
   "execution_count": 169,
   "metadata": {},
   "outputs": [],
   "source": [
    "# Imports\n",
    "import pandas as pd\n",
    "import numpy as np\n",
    "import matplotlib.pyplot as plt\n",
    "import seaborn as sns\n",
    "import string\n",
    "import scipy.cluster.hierarchy as sch\n",
    "from scipy.sparse import csr_matrix\n",
    "from nltk.corpus import stopwords\n",
    "from sklearn.feature_extraction.text import CountVectorizer\n",
    "from sklearn.feature_extraction.text import TfidfTransformer\n",
    "from sklearn.cluster import KMeans\n",
    "from sklearn.cluster import AgglomerativeClustering\n",
    "from sklearn.preprocessing import StandardScaler\n",
    "from sklearn.decomposition import PCA\n",
    "\n",
    "%matplotlib inline"
   ]
  },
  {
   "cell_type": "code",
   "execution_count": 2,
   "metadata": {},
   "outputs": [
    {
     "data": {
      "text/html": [
       "<div>\n",
       "<style scoped>\n",
       "    .dataframe tbody tr th:only-of-type {\n",
       "        vertical-align: middle;\n",
       "    }\n",
       "\n",
       "    .dataframe tbody tr th {\n",
       "        vertical-align: top;\n",
       "    }\n",
       "\n",
       "    .dataframe thead th {\n",
       "        text-align: right;\n",
       "    }\n",
       "</style>\n",
       "<table border=\"1\" class=\"dataframe\">\n",
       "  <thead>\n",
       "    <tr style=\"text-align: right;\">\n",
       "      <th></th>\n",
       "      <th>Id</th>\n",
       "      <th>Accession</th>\n",
       "      <th>title</th>\n",
       "      <th>summary</th>\n",
       "      <th>taxon</th>\n",
       "    </tr>\n",
       "  </thead>\n",
       "  <tbody>\n",
       "    <tr>\n",
       "      <th>0</th>\n",
       "      <td>200112120</td>\n",
       "      <td>GSE112120</td>\n",
       "      <td>Risk SNPs mediated promoter-enhancer switching...</td>\n",
       "      <td>To determine the binding of H3K4me1 and H3K4me...</td>\n",
       "      <td>Homo sapiens</td>\n",
       "    </tr>\n",
       "    <tr>\n",
       "      <th>1</th>\n",
       "      <td>200117735</td>\n",
       "      <td>GSE117735</td>\n",
       "      <td>The ATPase module of mammalian SWI/SNF family ...</td>\n",
       "      <td>This SuperSeries is composed of the SubSeries ...</td>\n",
       "      <td>Homo sapiens</td>\n",
       "    </tr>\n",
       "    <tr>\n",
       "      <th>2</th>\n",
       "      <td>200117734</td>\n",
       "      <td>GSE117734</td>\n",
       "      <td>The mSWI/SNF ATPase module mediates subcomplex...</td>\n",
       "      <td>Perturbations to mammalian SWI/SNF (mSWI/SNF) ...</td>\n",
       "      <td>Homo sapiens</td>\n",
       "    </tr>\n",
       "    <tr>\n",
       "      <th>3</th>\n",
       "      <td>200128119</td>\n",
       "      <td>GSE128119</td>\n",
       "      <td>COX-2 mediates tumor-stromal Prolactin signali...</td>\n",
       "      <td>Tumor-stromal communication within the microen...</td>\n",
       "      <td>Homo sapiens</td>\n",
       "    </tr>\n",
       "    <tr>\n",
       "      <th>4</th>\n",
       "      <td>200126367</td>\n",
       "      <td>GSE126367</td>\n",
       "      <td>Copy number analysis of selumetinib-resistant ...</td>\n",
       "      <td>Copy number analysis to compare parental color...</td>\n",
       "      <td>Homo sapiens</td>\n",
       "    </tr>\n",
       "  </tbody>\n",
       "</table>\n",
       "</div>"
      ],
      "text/plain": [
       "          Id  Accession                                              title  \\\n",
       "0  200112120  GSE112120  Risk SNPs mediated promoter-enhancer switching...   \n",
       "1  200117735  GSE117735  The ATPase module of mammalian SWI/SNF family ...   \n",
       "2  200117734  GSE117734  The mSWI/SNF ATPase module mediates subcomplex...   \n",
       "3  200128119  GSE128119  COX-2 mediates tumor-stromal Prolactin signali...   \n",
       "4  200126367  GSE126367  Copy number analysis of selumetinib-resistant ...   \n",
       "\n",
       "                                             summary         taxon  \n",
       "0  To determine the binding of H3K4me1 and H3K4me...  Homo sapiens  \n",
       "1  This SuperSeries is composed of the SubSeries ...  Homo sapiens  \n",
       "2  Perturbations to mammalian SWI/SNF (mSWI/SNF) ...  Homo sapiens  \n",
       "3  Tumor-stromal communication within the microen...  Homo sapiens  \n",
       "4  Copy number analysis to compare parental color...  Homo sapiens  "
      ]
     },
     "execution_count": 2,
     "metadata": {},
     "output_type": "execute_result"
    }
   ],
   "source": [
    "# Set name of file\n",
    "filename = '../data/interim/summaries.csv'\n",
    "\n",
    "# Read to DataFrame\n",
    "df = pd.read_csv(filename, sep=',', header=[0], error_bad_lines=False)\n",
    "df.head()"
   ]
  },
  {
   "cell_type": "code",
   "execution_count": 3,
   "metadata": {},
   "outputs": [
    {
     "name": "stdout",
     "output_type": "stream",
     "text": [
      "CPU times: user 21 s, sys: 9.82 s, total: 30.8 s\n",
      "Wall time: 32.7 s\n"
     ]
    }
   ],
   "source": [
    "%%time\n",
    "# Set name of file\n",
    "filename = '../data/interim/records.pkl'\n",
    "#filename = '../data/interim/samples.pkl'\n",
    "\n",
    "\n",
    "# Read to DataFrame\n",
    "df = pd.read_pickle(filename)\n",
    "df.head()"
   ]
  },
  {
   "cell_type": "markdown",
   "metadata": {},
   "source": [
    "# Get the Data"
   ]
  },
  {
   "cell_type": "code",
   "execution_count": 94,
   "metadata": {},
   "outputs": [
    {
     "data": {
      "text/html": [
       "<div>\n",
       "<style scoped>\n",
       "    .dataframe tbody tr th:only-of-type {\n",
       "        vertical-align: middle;\n",
       "    }\n",
       "\n",
       "    .dataframe tbody tr th {\n",
       "        vertical-align: top;\n",
       "    }\n",
       "\n",
       "    .dataframe thead th {\n",
       "        text-align: right;\n",
       "    }\n",
       "</style>\n",
       "<table border=\"1\" class=\"dataframe\">\n",
       "  <thead>\n",
       "    <tr style=\"text-align: right;\">\n",
       "      <th></th>\n",
       "      <th>summary</th>\n",
       "      <th>length</th>\n",
       "    </tr>\n",
       "  </thead>\n",
       "  <tbody>\n",
       "    <tr>\n",
       "      <th>0</th>\n",
       "      <td>This series represents a group of cutaneous ma...</td>\n",
       "      <td>218</td>\n",
       "    </tr>\n",
       "    <tr>\n",
       "      <th>1</th>\n",
       "      <td>We investigated the changes in gene expression...</td>\n",
       "      <td>1289</td>\n",
       "    </tr>\n",
       "    <tr>\n",
       "      <th>2</th>\n",
       "      <td>Human retinal and RPE SAGE libraries. Profile ...</td>\n",
       "      <td>217</td>\n",
       "    </tr>\n",
       "    <tr>\n",
       "      <th>3</th>\n",
       "      <td>This series represents the Cancer Genome Anato...</td>\n",
       "      <td>870</td>\n",
       "    </tr>\n",
       "    <tr>\n",
       "      <th>4</th>\n",
       "      <td>This series represents the data set from the p...</td>\n",
       "      <td>5727</td>\n",
       "    </tr>\n",
       "  </tbody>\n",
       "</table>\n",
       "</div>"
      ],
      "text/plain": [
       "                                             summary  length\n",
       "0  This series represents a group of cutaneous ma...     218\n",
       "1  We investigated the changes in gene expression...    1289\n",
       "2  Human retinal and RPE SAGE libraries. Profile ...     217\n",
       "3  This series represents the Cancer Genome Anato...     870\n",
       "4  This series represents the data set from the p...    5727"
      ]
     },
     "execution_count": 94,
     "metadata": {},
     "output_type": "execute_result"
    }
   ],
   "source": [
    "messages = pd.DataFrame(df['summary'].iloc[:1000])\n",
    "messages['length'] = messages['summary'].apply(len)\n",
    "messages.head()"
   ]
  },
  {
   "cell_type": "markdown",
   "metadata": {},
   "source": [
    "# Exploratory Data Analysis"
   ]
  },
  {
   "cell_type": "code",
   "execution_count": 95,
   "metadata": {},
   "outputs": [
    {
     "data": {
      "text/html": [
       "<div>\n",
       "<style scoped>\n",
       "    .dataframe tbody tr th:only-of-type {\n",
       "        vertical-align: middle;\n",
       "    }\n",
       "\n",
       "    .dataframe tbody tr th {\n",
       "        vertical-align: top;\n",
       "    }\n",
       "\n",
       "    .dataframe thead th {\n",
       "        text-align: right;\n",
       "    }\n",
       "</style>\n",
       "<table border=\"1\" class=\"dataframe\">\n",
       "  <thead>\n",
       "    <tr style=\"text-align: right;\">\n",
       "      <th></th>\n",
       "      <th>length</th>\n",
       "    </tr>\n",
       "  </thead>\n",
       "  <tbody>\n",
       "    <tr>\n",
       "      <th>count</th>\n",
       "      <td>1000.000000</td>\n",
       "    </tr>\n",
       "    <tr>\n",
       "      <th>mean</th>\n",
       "      <td>718.154000</td>\n",
       "    </tr>\n",
       "    <tr>\n",
       "      <th>std</th>\n",
       "      <td>862.788214</td>\n",
       "    </tr>\n",
       "    <tr>\n",
       "      <th>min</th>\n",
       "      <td>27.000000</td>\n",
       "    </tr>\n",
       "    <tr>\n",
       "      <th>25%</th>\n",
       "      <td>145.750000</td>\n",
       "    </tr>\n",
       "    <tr>\n",
       "      <th>50%</th>\n",
       "      <td>360.500000</td>\n",
       "    </tr>\n",
       "    <tr>\n",
       "      <th>75%</th>\n",
       "      <td>1076.000000</td>\n",
       "    </tr>\n",
       "    <tr>\n",
       "      <th>max</th>\n",
       "      <td>7967.000000</td>\n",
       "    </tr>\n",
       "  </tbody>\n",
       "</table>\n",
       "</div>"
      ],
      "text/plain": [
       "            length\n",
       "count  1000.000000\n",
       "mean    718.154000\n",
       "std     862.788214\n",
       "min      27.000000\n",
       "25%     145.750000\n",
       "50%     360.500000\n",
       "75%    1076.000000\n",
       "max    7967.000000"
      ]
     },
     "execution_count": 95,
     "metadata": {},
     "output_type": "execute_result"
    }
   ],
   "source": [
    "messages.describe()"
   ]
  },
  {
   "cell_type": "code",
   "execution_count": 96,
   "metadata": {},
   "outputs": [
    {
     "name": "stdout",
     "output_type": "stream",
     "text": [
      "Shortest Message:---\n",
      " Lung tumors Keywords: other\n",
      "\n",
      "\n",
      "Longest  Message:---\n",
      " The total RNA from control and POAG optic nerve lamina cribrosa region was isolated and subjected to analysis on U133A 2.0 affymetrix microarray chip. The results from these two analysis was compared to determine whether PAD II RNA level is altered. Purpose of the study. This study was done to determine which RNA transcripts undergo significant changes in the optic nerve between normal and cadaver primary open-angle glaucoma donors. Using donor tissues from NDRI we have performed proteomic analyses (which will be published shortly), we intend a comparison between the proteomic and RNA changes for select proteins in our study. Sample Collection and Preparation of Labeled Copy RNA The total RNA from optic nerve was obtained using TRIZOL (Invitrogen Inc., Carlsbad, CA) with modification of recommended protocols. The optic nerve from donor eyes were carefully excised and minced into small pieces first using a scissor and then a scalpel. Prior to use tissue was washed with DEPC water and all solutions were prepared in DEPC water. The minced tissue was placed in a glass homogenizer with 1 ml TRIZOL per 100 mg of tissue and homogenized in a glass homogenizer DUALL 20 (Kimble Kontes Glass Co, Vineland, NJ) with 10 strokes cycles each at room temperature and after freezing with liquid nitrogen for 1 min for 40 cycles. This RNA was extracted with chloroform, isoamylalcohol and precipitated with sodium citrate/sodium chloride and isopropanol. The final air-dried RNA precipitate was suspended in DEPC water and stored in –80oC prior to use. RNA was prepared for hybridization according to the GeneChip Expression Analysis Technical Manual (Affymetrix, Santa Clara, CA). The hybridization was performed at Gene Expression Array Core Facility at Case Western Reserve University (www.geacf.net). The RNA sample was cleaned using a column from a Qiagen RNeasy kit, (part # 74104 ) in accordance with the manufacturer’s instructions. The volume of DEPC water used to elute the RNA from the Qiagen column was dictated by the nominal mass of the loaded RNA sample. Samples were eluted in 100ml of water, precipitated with 0.5 volume of 7.5M Ammonium Acetate and 2.5 volumes of 100% ethanol at -20oC for 1 hr and centrifuged for 10 min at room temperature. The pellet was drained and washed twice in 500µl of 70% ethanol. Supernatant was aspirated. The pellet was dried briefly (less than 1 min) in a speeedvac (Savant) and re-suspended in a small volume (~ 12–15ml) of DEPC water. A small aliquot (2ml) of the sample was used for quantitation. Cleaned RNA samples were annotated as “clnRNA” and stored at -20oC. cDNA Synthesis The protocol recommended by Affymetrix Inc. for cDNA synthesis was used at all times. The reaction was primed by annealing an oligo-dT primer coupled to a T7 RNA polymerase promoter to the RNA sample. Whenever possible, 8 mg of clnRNA were reverse transcribed using Superscript II reverse transcriptase in a 20ml reaction at 42oC for 1 hr. Second strand synthesis was carried out immediately in a total reaction volume of 150ml in the presence of E. coli DNA polymerase I, RNAse H and DNA ligase. The reaction mixture incubated for 2 hrs at 16oC and for a further 5 min in the presence of T4 DNA pol.. The reaction was terminated by the addition of EDTA. The sample was cleaned with a Qiagen cDNA clean-up column according to the manufacturers directions. The elution buffer volume was 14ml. The eluted samples were stored overnight at -20oC. In-Vitro Transcription (IVT) reaction In a 0.5ml microfuge tube, complementary RNA (cRNA) was generated in an IVT reaction using a BioArray High Yield ENZO kit (Affymetrix). The 40ml reaction contained 10ml of cDNA sample and was incubated at 37oC in the heating block for 4-5hrs. Samples were mixed by flicking, pulse-centrifuged and returned to the incubator once every 40 minutes. Upon completion of the reaction, IVT samples were adjusted to a volume of 100ml with DEPC-treated water and cleaned using Qiagen RNA clean-up columns. Samples were eluted in 45ml of DEPC-treated water. A 2ml-aliquot was used for quantitation. Corrected concentrations of cRNA (minus the input clnRNA) were determined. A standard fragmentation reaction volume was 40ml in a 0.5 ml microfuge tube and used 20mg of overall IVT RNA in 1X fragmentation buffer (40mM Tris acetate, pH 8.1, 100mM KOAc, 30mM MgOAc). The reaction was incubated at 94oC for 35min in a heat block. After the 35 min incubation the fragmented samples were placed on ice. The standard hybridization cocktail volume was 300ml. 150ml of 2X hybridization buffer was added (final concentrations : 100mM MES, 1M [Na+], 20mM EDTA, 0.01% Tween 20) Herring sperm and acetylated BSA were added to a final concentration of 0.1 and 0.5mg/ml respectively. The amount of fragmentation reaction containing 15mg of cRNA was added to the cocktail and the remaining volume was made up with molecular biology grade water. A 15ml aliquot of a 20X mixture of in-vitro transcripts of bacterial genes BioB BioC BioD and cre as external controls (spikes) were added to the cocktail to give final concentrations of 1.5, 5, 25 and 100pM respectively. Control oligonucleotide (5ml) was added to a final concentration of 50pM. Array Hybridization Sample Hyridization cocktails (300ml) were removed from storage at –20oC and thawed in a 45oC temperature block. The samples were incubated at 45oC for 5 min, incubated at 45oC for 5 min and then centrifuged at 15,000g for 5 min. This study used commercially available Affymetrix HG U133A 2.0 arrays only. These are in situ synthesized, high density oligonucleotide arrays which can interrogate 22,777 gene entities. The part number is 900444 more detailed information may be found at www.affymetrix.com website. Meanwhile, the affymetrix chip arrays were taken from their storage at 4oC and allowed to come to room temperature. The chamber was filled with 1X hybridization buffer (final concentrations : 100mM MES, 1M [Na+], 20mM EDTA, 0.01% Tween 20). The chip was then preconditioned by incubation in the hybridization oven at 45oC for 10 min. The chip was removed and the chamber drained. Sample cocktails (200ml) were then introduced into the chamber of the chips. The ports were sealed with tough-spots stickers and placed in the hybridization oven and incubated at 45oC with rotation overnight. Next day (16hr later), the incubation was terminated and the chips removed from the oven. Samples were retrieved from the chips and stored again in a freezer at -20oC. The chips were filled with buffer A and placed in a module of Fluidics 400 wash station. The chips were subjected to the Affymetrix “EuKws4 ver 2” programmed series of stringent post hybridization washes, staining and post-staining washes in accordance with Affy protocols. Upon completion of the wash series (approximately 2 hrs), the chips were removed from the Fluidics station. The chips were inspected. Chips were scanned using an Agilent Gene Array scanner 3000 driven by Affymetrix GCOS software. Generation of Expression Values Microarray Suite, version 5 (Affymetrix), was used to generate *.cel files, and a computer program (Probe Profiler, ver. 1.3.11; Corimbia Inc., Berkeley, CA) developed specifically for the GeneChip system (Affymetrix) was used to convert intensity data into quantitative estimates of gene expression for each probe set. The software identifies informative probe pairs, and down-weights the signal contribution of probe pairs that are subject to differential cross-hybridization effects or that consistently produce no signal. The software also detects and corrects for saturation artifacts, outliers, and chip defects. A probability statistic was generated for each probe set. The probability is associated with the null hypothesis that the expression level of the probe set is equal to zero (background). Genes not significantly expressed above background in any of the samples (P > 0.05) were Keywords: ordered\n"
     ]
    }
   ],
   "source": [
    "print('Shortest Message:---\\n',messages[messages['length'] == int(messages.describe().min())]['summary'].iloc[0])\n",
    "print('\\n')\n",
    "print('Longest  Message:---\\n',messages[messages['length'] == int(messages.describe().max())]['summary'].iloc[0])"
   ]
  },
  {
   "cell_type": "code",
   "execution_count": 97,
   "metadata": {},
   "outputs": [
    {
     "data": {
      "text/plain": [
       "<matplotlib.axes._subplots.AxesSubplot at 0x1a209a5668>"
      ]
     },
     "execution_count": 97,
     "metadata": {},
     "output_type": "execute_result"
    },
    {
     "data": {
      "image/png": "[encoded data removed]",
      "text/plain": [
       "<Figure size 432x288 with 1 Axes>"
      ]
     },
     "metadata": {
      "needs_background": "light"
     },
     "output_type": "display_data"
    }
   ],
   "source": [
    "messages.groupby('length').count()\n",
    "messages['length'].plot(bins=100, kind='hist', title='Frequency of summaries of certain length', legend=True) "
   ]
  },
  {
   "cell_type": "markdown",
   "metadata": {},
   "source": [
    "# Text Pre-Processing"
   ]
  },
  {
   "cell_type": "code",
   "execution_count": 98,
   "metadata": {},
   "outputs": [],
   "source": [
    "def text_process(mess):\n",
    "    \"\"\"\n",
    "    Takes in a string of text, then performs the following:\n",
    "    1. Remove all punctuation\n",
    "    2. Remove all stopwords\n",
    "    3. Returns a list of the cleaned text\n",
    "    \"\"\"\n",
    "    # Check characters to see if they are in punctuation\n",
    "    nopunc = [char for char in mess if char not in string.punctuation]\n",
    "\n",
    "    # Join the characters again to form the string.\n",
    "    nopunc = ''.join(nopunc)\n",
    "    \n",
    "    # Now just remove any stopwords\n",
    "    return [word for word in nopunc.split() if word.lower() not in stopwords.words('english')]"
   ]
  },
  {
   "cell_type": "code",
   "execution_count": 99,
   "metadata": {},
   "outputs": [
    {
     "data": {
      "text/plain": [
       "0    [series, represents, group, cutaneous, maligna...\n",
       "1    [investigated, changes, gene, expression, acco...\n",
       "2    [Human, retinal, RPE, SAGE, libraries, Profile...\n",
       "3    [series, represents, Cancer, Genome, Anatomy, ...\n",
       "4    [series, represents, data, set, paper, uAssemb...\n",
       "Name: summary, dtype: object"
      ]
     },
     "execution_count": 99,
     "metadata": {},
     "output_type": "execute_result"
    }
   ],
   "source": [
    "messages['summary'].head(5).apply(text_process)"
   ]
  },
  {
   "cell_type": "markdown",
   "metadata": {},
   "source": [
    "# Stemming (?)"
   ]
  },
  {
   "cell_type": "code",
   "execution_count": null,
   "metadata": {},
   "outputs": [],
   "source": []
  },
  {
   "cell_type": "markdown",
   "metadata": {},
   "source": [
    "# Vectorization"
   ]
  },
  {
   "cell_type": "code",
   "execution_count": 100,
   "metadata": {},
   "outputs": [
    {
     "name": "stdout",
     "output_type": "stream",
     "text": [
      "12595\n"
     ]
    }
   ],
   "source": [
    "# Might take awhile...\n",
    "bow_transformer = CountVectorizer(analyzer=text_process).fit(messages['summary'])\n",
    "\n",
    "# Print total number of vocab words\n",
    "print(len(bow_transformer.vocabulary_))"
   ]
  },
  {
   "cell_type": "code",
   "execution_count": 101,
   "metadata": {},
   "outputs": [
    {
     "name": "stdout",
     "output_type": "stream",
     "text": [
      "  (0, 263)\t1\n",
      "  (0, 530)\t1\n",
      "  (0, 575)\t1\n",
      "  (0, 786)\t1\n",
      "  (0, 1629)\t1\n",
      "  (0, 1879)\t1\n",
      "  (0, 1987)\t1\n",
      "  (0, 2180)\t1\n",
      "  (0, 2316)\t1\n",
      "  (0, 3402)\t2\n",
      "  (0, 5418)\t1\n",
      "  (0, 5615)\t1\n",
      "  (0, 5662)\t1\n",
      "  (0, 5668)\t1\n",
      "  (0, 5692)\t1\n",
      "  (0, 5827)\t1\n",
      "  (0, 5894)\t1\n",
      "  (0, 6010)\t1\n",
      "  (0, 6102)\t1\n",
      "  (0, 6203)\t3\n",
      "  (0, 6309)\t2\n",
      "  (0, 6346)\t2\n",
      "  (0, 6369)\t3\n",
      "  (0, 6417)\t3\n",
      "  (0, 6425)\t1\n",
      "  :\t:\n",
      "  (0, 10635)\t1\n",
      "  (0, 10668)\t1\n",
      "  (0, 10711)\t1\n",
      "  (0, 10782)\t1\n",
      "  (0, 10988)\t5\n",
      "  (0, 11187)\t1\n",
      "  (0, 11355)\t1\n",
      "  (0, 11394)\t1\n",
      "  (0, 11399)\t1\n",
      "  (0, 11449)\t1\n",
      "  (0, 11496)\t1\n",
      "  (0, 11573)\t1\n",
      "  (0, 11752)\t1\n",
      "  (0, 11861)\t1\n",
      "  (0, 11894)\t1\n",
      "  (0, 12031)\t1\n",
      "  (0, 12068)\t1\n",
      "  (0, 12127)\t1\n",
      "  (0, 12130)\t1\n",
      "  (0, 12192)\t1\n",
      "  (0, 12240)\t1\n",
      "  (0, 12292)\t1\n",
      "  (0, 12377)\t1\n",
      "  (0, 12434)\t1\n",
      "  (0, 12440)\t1\n",
      "\n",
      "(1, 12595)\n"
     ]
    }
   ],
   "source": [
    "message2 = messages['summary'][1]\n",
    "bow2 = bow_transformer.transform([message2])\n",
    "print(bow2)\n",
    "print()\n",
    "print(bow2.shape)"
   ]
  },
  {
   "cell_type": "code",
   "execution_count": 102,
   "metadata": {},
   "outputs": [],
   "source": [
    "messages_bow = bow_transformer.transform(messages['summary'])"
   ]
  },
  {
   "cell_type": "code",
   "execution_count": 103,
   "metadata": {},
   "outputs": [
    {
     "name": "stdout",
     "output_type": "stream",
     "text": [
      "Shape of Sparse Matrix:  (1000, 12595)\n",
      "Amount of Non-Zero occurences:  53451\n",
      "Sparsity: 0.424%\n"
     ]
    }
   ],
   "source": [
    "sparsity = (100.0 * messages_bow.nnz / (messages_bow.shape[0] * messages_bow.shape[1]))\n",
    "print('Shape of Sparse Matrix: ', messages_bow.shape)\n",
    "print('Amount of Non-Zero occurences: ', messages_bow.nnz)\n",
    "print('Sparsity: {:5.3f}%'.format(sparsity))"
   ]
  },
  {
   "cell_type": "markdown",
   "metadata": {},
   "source": [
    "# TD-IDF"
   ]
  },
  {
   "cell_type": "code",
   "execution_count": 104,
   "metadata": {},
   "outputs": [
    {
     "name": "stdout",
     "output_type": "stream",
     "text": [
      "  (0, 12440)\t0.06037025772912686\n",
      "  (0, 12434)\t0.10232087214712801\n",
      "  (0, 12377)\t0.1131945945607383\n",
      "  (0, 12292)\t0.037896105630231415\n",
      "  (0, 12240)\t0.06969970490629718\n",
      "  (0, 12192)\t0.10232087214712801\n",
      "  (0, 12130)\t0.05493806124603997\n",
      "  (0, 12127)\t0.0523026967743841\n",
      "  (0, 12068)\t0.09144714973351774\n",
      "  (0, 12031)\t0.07787753236002529\n",
      "  (0, 11894)\t0.07179447400819111\n",
      "  (0, 11861)\t0.10232087214712801\n",
      "  (0, 11752)\t0.09882031540618046\n",
      "  (0, 11573)\t0.07872571002309144\n",
      "  (0, 11496)\t0.06333898505108404\n",
      "  (0, 11449)\t0.07019776151266947\n",
      "  (0, 11399)\t0.07019776151266947\n",
      "  (0, 11394)\t0.06785198760948116\n",
      "  (0, 11355)\t0.06874865824903534\n",
      "  (0, 11187)\t0.040640493566601626\n",
      "  (0, 10988)\t0.4079293656867851\n",
      "  (0, 10782)\t0.1131945945607383\n",
      "  (0, 10711)\t0.07019776151266947\n",
      "  (0, 10668)\t0.09882031540618046\n",
      "  (0, 10635)\t0.0729570402573738\n",
      "  :\t:\n",
      "  (0, 6425)\t0.029462150602932693\n",
      "  (0, 6417)\t0.10685046952290277\n",
      "  (0, 6369)\t0.19859744449604888\n",
      "  (0, 6346)\t0.09615059930827831\n",
      "  (0, 6309)\t0.15414574115791982\n",
      "  (0, 6203)\t0.16777505911644963\n",
      "  (0, 6102)\t0.06921697557559668\n",
      "  (0, 6010)\t0.04819931188415453\n",
      "  (0, 5894)\t0.09596015229191487\n",
      "  (0, 5827)\t0.06969970490629718\n",
      "  (0, 5692)\t0.0850864298783046\n",
      "  (0, 5668)\t0.09882031540618046\n",
      "  (0, 5662)\t0.08959943243670171\n",
      "  (0, 5615)\t0.09882031540618046\n",
      "  (0, 5418)\t0.06829391726724356\n",
      "  (0, 3402)\t0.031848642834847785\n",
      "  (0, 2316)\t0.09144714973351774\n",
      "  (0, 2180)\t0.05858276110281596\n",
      "  (0, 1987)\t0.1131945945607383\n",
      "  (0, 1879)\t0.05365298922148387\n",
      "  (0, 1629)\t0.06619914816534962\n",
      "  (0, 786)\t0.05437437909447749\n",
      "  (0, 575)\t0.0864514178444201\n",
      "  (0, 530)\t0.1131945945607383\n",
      "  (0, 263)\t0.1131945945607383\n"
     ]
    }
   ],
   "source": [
    "tfidf_transformer = TfidfTransformer().fit(messages_bow)\n",
    "tfidf2 = tfidf_transformer.transform(bow2)\n",
    "print(tfidf2)"
   ]
  },
  {
   "cell_type": "code",
   "execution_count": 105,
   "metadata": {},
   "outputs": [
    {
     "name": "stdout",
     "output_type": "stream",
     "text": [
      "3.064567692856629\n",
      "3.883403088580071\n",
      "3.02595285672885\n"
     ]
    }
   ],
   "source": [
    "print(tfidf_transformer.idf_[bow_transformer.vocabulary_['cancer']])\n",
    "print(tfidf_transformer.idf_[bow_transformer.vocabulary_['breast']])\n",
    "print(tfidf_transformer.idf_[bow_transformer.vocabulary_['study']])"
   ]
  },
  {
   "cell_type": "code",
   "execution_count": 106,
   "metadata": {},
   "outputs": [
    {
     "name": "stdout",
     "output_type": "stream",
     "text": [
      "(1000, 12595)\n",
      "  (0, 12257)\t0.2893418801017766\n",
      "  (0, 11317)\t0.17443492144519968\n",
      "  (0, 11021)\t0.2146859877074325\n",
      "  (0, 10618)\t0.14587633544320988\n",
      "  (0, 9343)\t0.3237467062338879\n",
      "  (0, 9235)\t0.26156497438148046\n",
      "  (0, 8229)\t0.19838046757427094\n",
      "  (0, 8092)\t0.10193592877689364\n",
      "  (0, 7772)\t0.09192381357952\n",
      "  (0, 6976)\t0.35815153236599917\n",
      "  (0, 6895)\t0.2549370539696653\n",
      "  (0, 6850)\t0.19838046757427094\n",
      "  (0, 6690)\t0.18612740170544273\n",
      "  (0, 6623)\t0.3380259992348828\n",
      "  (0, 6597)\t0.31267082610224634\n",
      "  (0, 6331)\t0.26156497438148046\n",
      "  (0, 6140)\t0.19187679171304436\n",
      "  (0, 3402)\t0.05038509250085049\n"
     ]
    }
   ],
   "source": [
    "messages_tfidf = tfidf_transformer.transform(messages_bow)\n",
    "print(messages_tfidf.shape)\n",
    "print(messages_tfidf[0])"
   ]
  },
  {
   "cell_type": "markdown",
   "metadata": {},
   "source": [
    "# Dimensionality reduction PCA"
   ]
  },
  {
   "cell_type": "code",
   "execution_count": 297,
   "metadata": {},
   "outputs": [],
   "source": [
    "# Feature Scaling\n",
    "sc = StandardScaler()\n",
    "X = sc.fit_transform(messages_tfidf.toarray())"
   ]
  },
  {
   "cell_type": "code",
   "execution_count": 298,
   "metadata": {},
   "outputs": [],
   "source": [
    "# Applying PCA\n",
    "pca = PCA(n_components = 10)\n",
    "X = pca.fit_transform(X)\n",
    "explained_variance = pca.explained_variance_ratio_"
   ]
  },
  {
   "cell_type": "code",
   "execution_count": 299,
   "metadata": {},
   "outputs": [
    {
     "data": {
      "text/html": [
       "<div>\n",
       "<style scoped>\n",
       "    .dataframe tbody tr th:only-of-type {\n",
       "        vertical-align: middle;\n",
       "    }\n",
       "\n",
       "    .dataframe tbody tr th {\n",
       "        vertical-align: top;\n",
       "    }\n",
       "\n",
       "    .dataframe thead th {\n",
       "        text-align: right;\n",
       "    }\n",
       "</style>\n",
       "<table border=\"1\" class=\"dataframe\">\n",
       "  <thead>\n",
       "    <tr style=\"text-align: right;\">\n",
       "      <th></th>\n",
       "      <th>0</th>\n",
       "      <th>1</th>\n",
       "      <th>2</th>\n",
       "      <th>3</th>\n",
       "      <th>4</th>\n",
       "      <th>5</th>\n",
       "      <th>6</th>\n",
       "      <th>7</th>\n",
       "      <th>8</th>\n",
       "      <th>9</th>\n",
       "    </tr>\n",
       "  </thead>\n",
       "  <tbody>\n",
       "    <tr>\n",
       "      <th>count</th>\n",
       "      <td>1.000000e+03</td>\n",
       "      <td>1.000000e+03</td>\n",
       "      <td>1.000000e+03</td>\n",
       "      <td>1.000000e+03</td>\n",
       "      <td>1.000000e+03</td>\n",
       "      <td>1.000000e+03</td>\n",
       "      <td>1.000000e+03</td>\n",
       "      <td>1.000000e+03</td>\n",
       "      <td>1.000000e+03</td>\n",
       "      <td>1.000000e+03</td>\n",
       "    </tr>\n",
       "    <tr>\n",
       "      <th>mean</th>\n",
       "      <td>7.238654e-17</td>\n",
       "      <td>9.153789e-16</td>\n",
       "      <td>7.283063e-16</td>\n",
       "      <td>-1.203981e-15</td>\n",
       "      <td>8.829271e-15</td>\n",
       "      <td>1.764699e-16</td>\n",
       "      <td>-4.162226e-16</td>\n",
       "      <td>4.063860e-15</td>\n",
       "      <td>2.265799e-15</td>\n",
       "      <td>5.120349e-16</td>\n",
       "    </tr>\n",
       "    <tr>\n",
       "      <th>std</th>\n",
       "      <td>1.293711e+01</td>\n",
       "      <td>1.243445e+01</td>\n",
       "      <td>1.204361e+01</td>\n",
       "      <td>1.150388e+01</td>\n",
       "      <td>1.112931e+01</td>\n",
       "      <td>1.009581e+01</td>\n",
       "      <td>1.000779e+01</td>\n",
       "      <td>9.656339e+00</td>\n",
       "      <td>9.555685e+00</td>\n",
       "      <td>8.814515e+00</td>\n",
       "    </tr>\n",
       "    <tr>\n",
       "      <th>min</th>\n",
       "      <td>-7.015058e+00</td>\n",
       "      <td>-6.767182e+00</td>\n",
       "      <td>-2.280063e+01</td>\n",
       "      <td>-6.561862e+01</td>\n",
       "      <td>-7.216581e+01</td>\n",
       "      <td>-6.549598e+00</td>\n",
       "      <td>-3.013074e+01</td>\n",
       "      <td>-1.727155e+01</td>\n",
       "      <td>-5.025341e+00</td>\n",
       "      <td>-6.215660e+01</td>\n",
       "    </tr>\n",
       "    <tr>\n",
       "      <th>25%</th>\n",
       "      <td>-6.978127e-01</td>\n",
       "      <td>-4.804363e-01</td>\n",
       "      <td>-9.709554e-01</td>\n",
       "      <td>-5.839497e-01</td>\n",
       "      <td>-4.554993e-01</td>\n",
       "      <td>-5.475591e-01</td>\n",
       "      <td>-8.345761e-01</td>\n",
       "      <td>-4.466476e-01</td>\n",
       "      <td>-3.931009e-01</td>\n",
       "      <td>-1.485298e+00</td>\n",
       "    </tr>\n",
       "    <tr>\n",
       "      <th>50%</th>\n",
       "      <td>-6.522779e-01</td>\n",
       "      <td>-3.976590e-01</td>\n",
       "      <td>-9.039720e-01</td>\n",
       "      <td>-5.535828e-01</td>\n",
       "      <td>-4.191482e-01</td>\n",
       "      <td>-5.098216e-01</td>\n",
       "      <td>-7.436440e-01</td>\n",
       "      <td>-3.986049e-01</td>\n",
       "      <td>-3.395758e-01</td>\n",
       "      <td>-1.331011e+00</td>\n",
       "    </tr>\n",
       "    <tr>\n",
       "      <th>75%</th>\n",
       "      <td>-5.227682e-01</td>\n",
       "      <td>-3.679017e-01</td>\n",
       "      <td>-6.921289e-01</td>\n",
       "      <td>-4.152720e-01</td>\n",
       "      <td>-3.010482e-01</td>\n",
       "      <td>-3.445882e-01</td>\n",
       "      <td>-4.528654e-01</td>\n",
       "      <td>-2.763062e-01</td>\n",
       "      <td>-3.039417e-01</td>\n",
       "      <td>-8.709931e-01</td>\n",
       "    </tr>\n",
       "    <tr>\n",
       "      <th>max</th>\n",
       "      <td>4.069109e+02</td>\n",
       "      <td>3.925247e+02</td>\n",
       "      <td>3.637543e+02</td>\n",
       "      <td>3.514188e+02</td>\n",
       "      <td>3.359591e+02</td>\n",
       "      <td>3.174928e+02</td>\n",
       "      <td>3.035815e+02</td>\n",
       "      <td>3.030651e+02</td>\n",
       "      <td>3.008148e+02</td>\n",
       "      <td>1.307395e+02</td>\n",
       "    </tr>\n",
       "  </tbody>\n",
       "</table>\n",
       "</div>"
      ],
      "text/plain": [
       "                  0             1             2             3             4  \\\n",
       "count  1.000000e+03  1.000000e+03  1.000000e+03  1.000000e+03  1.000000e+03   \n",
       "mean   7.238654e-17  9.153789e-16  7.283063e-16 -1.203981e-15  8.829271e-15   \n",
       "std    1.293711e+01  1.243445e+01  1.204361e+01  1.150388e+01  1.112931e+01   \n",
       "min   -7.015058e+00 -6.767182e+00 -2.280063e+01 -6.561862e+01 -7.216581e+01   \n",
       "25%   -6.978127e-01 -4.804363e-01 -9.709554e-01 -5.839497e-01 -4.554993e-01   \n",
       "50%   -6.522779e-01 -3.976590e-01 -9.039720e-01 -5.535828e-01 -4.191482e-01   \n",
       "75%   -5.227682e-01 -3.679017e-01 -6.921289e-01 -4.152720e-01 -3.010482e-01   \n",
       "max    4.069109e+02  3.925247e+02  3.637543e+02  3.514188e+02  3.359591e+02   \n",
       "\n",
       "                  5             6             7             8             9  \n",
       "count  1.000000e+03  1.000000e+03  1.000000e+03  1.000000e+03  1.000000e+03  \n",
       "mean   1.764699e-16 -4.162226e-16  4.063860e-15  2.265799e-15  5.120349e-16  \n",
       "std    1.009581e+01  1.000779e+01  9.656339e+00  9.555685e+00  8.814515e+00  \n",
       "min   -6.549598e+00 -3.013074e+01 -1.727155e+01 -5.025341e+00 -6.215660e+01  \n",
       "25%   -5.475591e-01 -8.345761e-01 -4.466476e-01 -3.931009e-01 -1.485298e+00  \n",
       "50%   -5.098216e-01 -7.436440e-01 -3.986049e-01 -3.395758e-01 -1.331011e+00  \n",
       "75%   -3.445882e-01 -4.528654e-01 -2.763062e-01 -3.039417e-01 -8.709931e-01  \n",
       "max    3.174928e+02  3.035815e+02  3.030651e+02  3.008148e+02  1.307395e+02  "
      ]
     },
     "execution_count": 299,
     "metadata": {},
     "output_type": "execute_result"
    }
   ],
   "source": [
    "pd.DataFrame(X).describe()"
   ]
  },
  {
   "cell_type": "markdown",
   "metadata": {},
   "source": [
    "# Training the model (K-means Clustering)"
   ]
  },
  {
   "cell_type": "code",
   "execution_count": 300,
   "metadata": {},
   "outputs": [],
   "source": [
    "wcss = []\n",
    "max_elbow = 25\n",
    "for i in range(1, max_elbow):\n",
    "    kmeans = KMeans(n_clusters = i, init = 'k-means++', random_state = 42)\n",
    "    kmeans.fit(X)\n",
    "    wcss.append(kmeans.inertia_)"
   ]
  },
  {
   "cell_type": "code",
   "execution_count": 301,
   "metadata": {},
   "outputs": [
    {
     "data": {
      "image/png": "[encoded data removed]",
      "text/plain": [
       "<Figure size 432x288 with 1 Axes>"
      ]
     },
     "metadata": {
      "needs_background": "light"
     },
     "output_type": "display_data"
    }
   ],
   "source": [
    "plt.plot(range(1, max_elbow), wcss)\n",
    "plt.title('The Elbow Method')\n",
    "plt.xlabel('Number of clusters')\n",
    "plt.ylabel('WCSS')\n",
    "plt.show()"
   ]
  },
  {
   "cell_type": "code",
   "execution_count": 302,
   "metadata": {},
   "outputs": [],
   "source": [
    "# Fitting K-Means to the dataset\n",
    "kmeans = KMeans(n_clusters = 10, init = 'k-means++', random_state = 42)\n",
    "y_kmeans = kmeans.fit_predict(X)"
   ]
  },
  {
   "cell_type": "code",
   "execution_count": 289,
   "metadata": {},
   "outputs": [
    {
     "data": {
      "image/png": "[encoded data removed]",
      "text/plain": [
       "<Figure size 432x288 with 1 Axes>"
      ]
     },
     "metadata": {
      "needs_background": "light"
     },
     "output_type": "display_data"
    }
   ],
   "source": [
    "# Visualising the clusters\n",
    "plt.scatter(X[y_kmeans == 0, 0], X[y_kmeans == 0, 1], s = 100, c = 'red', label = 'Cluster 1')\n",
    "plt.scatter(X[y_kmeans == 1, 0], X[y_kmeans == 1, 1], s = 100, c = 'blue', label = 'Cluster 2')\n",
    "plt.scatter(X[y_kmeans == 2, 0], X[y_kmeans == 2, 1], s = 100, c = 'green', label = 'Cluster 3')\n",
    "plt.scatter(X[y_kmeans == 3, 0], X[y_kmeans == 3, 1], s = 100, c = 'cyan', label = 'Cluster 4')\n",
    "plt.scatter(X[y_kmeans == 4, 0], X[y_kmeans == 4, 1], s = 100, c = 'magenta', label = 'Cluster 5')\n",
    "plt.scatter(kmeans.cluster_centers_[:, 0], kmeans.cluster_centers_[:, 1], s = 15, c = 'yellow', label = 'Centroids')\n",
    "plt.title('Clusters')\n",
    "#plt.xlabel('Annual Income (k$)')\n",
    "#plt.ylabel('Spending Score (1-100)')\n",
    "#plt.xlim(-2, 40)\n",
    "#plt.ylim(-2, 20)\n",
    "plt.legend()\n",
    "plt.show()"
   ]
  },
  {
   "cell_type": "markdown",
   "metadata": {},
   "source": [
    "# Training the model (Hierarchical Clustering)"
   ]
  },
  {
   "cell_type": "code",
   "execution_count": 291,
   "metadata": {},
   "outputs": [
    {
     "data": {
      "image/png": "[encoded data removed]",
      "text/plain": [
       "<Figure size 432x288 with 1 Axes>"
      ]
     },
     "metadata": {
      "needs_background": "light"
     },
     "output_type": "display_data"
    }
   ],
   "source": [
    "dendrogram = sch.dendrogram(sch.linkage(Xs, method = 'ward'))\n",
    "plt.title('Dendrogram')\n",
    "plt.xlabel('Customers')\n",
    "plt.ylabel('Euclidean distances')\n",
    "plt.show()"
   ]
  },
  {
   "cell_type": "code",
   "execution_count": 115,
   "metadata": {},
   "outputs": [],
   "source": [
    "hc = AgglomerativeClustering(n_clusters = 5, affinity = 'euclidean', linkage = 'ward')\n",
    "y_hc = hc.fit_predict(X)"
   ]
  },
  {
   "cell_type": "code",
   "execution_count": 116,
   "metadata": {},
   "outputs": [
    {
     "data": {
      "image/png": "[encoded data removed]",
      "text/plain": [
       "<Figure size 432x288 with 1 Axes>"
      ]
     },
     "metadata": {
      "needs_background": "light"
     },
     "output_type": "display_data"
    }
   ],
   "source": [
    "# Visualising the clusters\n",
    "plt.scatter(X[y_hc == 0, 0], X[y_hc == 0, 1], s = 100, c = 'red', label = 'Cluster 1')\n",
    "plt.scatter(X[y_hc == 1, 0], X[y_hc == 1, 1], s = 100, c = 'blue', label = 'Cluster 2')\n",
    "plt.scatter(X[y_hc == 2, 0], X[y_hc == 2, 1], s = 100, c = 'green', label = 'Cluster 3')\n",
    "plt.scatter(X[y_hc == 3, 0], X[y_hc == 3, 1], s = 100, c = 'cyan', label = 'Cluster 4')\n",
    "plt.scatter(X[y_hc == 4, 0], X[y_hc == 4, 1], s = 100, c = 'magenta', label = 'Cluster 5')\n",
    "plt.title('Clusters of customers')\n",
    "plt.xlabel('Annual Income (k$)')\n",
    "plt.ylabel('Spending Score (1-100)')\n",
    "plt.legend()\n",
    "plt.show()"
   ]
  },
  {
   "cell_type": "code",
   "execution_count": null,
   "metadata": {},
   "outputs": [],
   "source": []
  }
 ],
 "metadata": {
  "kernelspec": {
   "display_name": "Python 3",
   "language": "python",
   "name": "python3"
  },
  "language_info": {
   "codemirror_mode": {
    "name": "ipython",
    "version": 3
   },
   "file_extension": ".py",
   "mimetype": "text/x-python",
   "name": "python",
   "nbconvert_exporter": "python",
   "pygments_lexer": "ipython3",
   "version": "3.7.1"
  }
 },
 "nbformat": 4,
 "nbformat_minor": 2
}
