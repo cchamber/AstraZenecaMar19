{
 "cells": [
  {
   "cell_type": "markdown",
   "metadata": {},
   "source": [
    "# Imports"
   ]
  },
  {
   "cell_type": "code",
   "execution_count": 1,
   "metadata": {},
   "outputs": [],
   "source": [
    "# Pandas, Numpy and Matplotlib\n",
    "import pandas as pd\n",
    "import numpy as np\n",
    "import matplotlib.pyplot as plt\n",
    "%matplotlib inline"
   ]
  },
  {
   "cell_type": "code",
   "execution_count": 2,
   "metadata": {},
   "outputs": [
    {
     "ename": "ImportError",
     "evalue": "dlopen(/Users/luvela/anaconda3/lib/python3.6/site-packages/graph_tool/libgraph_tool_core.so, 9): Library not loaded: @rpath/libboost_python3.dylib\n  Referenced from: /Users/luvela/anaconda3/lib/python3.6/site-packages/graph_tool/libgraph_tool_core.so\n  Reason: image not found",
     "output_type": "error",
     "traceback": [
      "\u001b[0;31m---------------------------------------------------------------------------\u001b[0m",
      "\u001b[0;31mImportError\u001b[0m                               Traceback (most recent call last)",
      "\u001b[0;32m<ipython-input-2-8cf026c95734>\u001b[0m in \u001b[0;36m<module>\u001b[0;34m\u001b[0m\n\u001b[0;32m----> 1\u001b[0;31m \u001b[0;32mfrom\u001b[0m \u001b[0mgraph_tool\u001b[0m\u001b[0;34m.\u001b[0m\u001b[0mall\u001b[0m \u001b[0;32mimport\u001b[0m \u001b[0;34m*\u001b[0m\u001b[0;34m\u001b[0m\u001b[0;34m\u001b[0m\u001b[0m\n\u001b[0m",
      "\u001b[0;32m~/anaconda3/lib/python3.6/site-packages/graph_tool/__init__.py\u001b[0m in \u001b[0;36m<module>\u001b[0;34m\u001b[0m\n\u001b[1;32m    109\u001b[0m \u001b[0;34m\u001b[0m\u001b[0m\n\u001b[1;32m    110\u001b[0m \u001b[0;32mfrom\u001b[0m \u001b[0;34m.\u001b[0m\u001b[0mdl_import\u001b[0m \u001b[0;32mimport\u001b[0m \u001b[0;34m*\u001b[0m\u001b[0;34m\u001b[0m\u001b[0;34m\u001b[0m\u001b[0m\n\u001b[0;32m--> 111\u001b[0;31m \u001b[0mdl_import\u001b[0m\u001b[0;34m(\u001b[0m\u001b[0;34m\"from . import libgraph_tool_core as libcore\"\u001b[0m\u001b[0;34m)\u001b[0m\u001b[0;34m\u001b[0m\u001b[0;34m\u001b[0m\u001b[0m\n\u001b[0m\u001b[1;32m    112\u001b[0m \u001b[0m__version__\u001b[0m \u001b[0;34m=\u001b[0m \u001b[0mlibcore\u001b[0m\u001b[0;34m.\u001b[0m\u001b[0mmod_info\u001b[0m\u001b[0;34m(\u001b[0m\u001b[0;34m)\u001b[0m\u001b[0;34m.\u001b[0m\u001b[0mversion\u001b[0m\u001b[0;34m\u001b[0m\u001b[0;34m\u001b[0m\u001b[0m\n\u001b[1;32m    113\u001b[0m \u001b[0;34m\u001b[0m\u001b[0m\n",
      "\u001b[0;32m~/anaconda3/lib/python3.6/site-packages/graph_tool/dl_import.py\u001b[0m in \u001b[0;36mdl_import\u001b[0;34m(import_expr)\u001b[0m\n\u001b[1;32m     59\u001b[0m \u001b[0;34m\u001b[0m\u001b[0m\n\u001b[1;32m     60\u001b[0m     \u001b[0;32mtry\u001b[0m\u001b[0;34m:\u001b[0m\u001b[0;34m\u001b[0m\u001b[0;34m\u001b[0m\u001b[0m\n\u001b[0;32m---> 61\u001b[0;31m         \u001b[0mexec\u001b[0m\u001b[0;34m(\u001b[0m\u001b[0mimport_expr\u001b[0m\u001b[0;34m,\u001b[0m \u001b[0mlocal_dict\u001b[0m\u001b[0;34m,\u001b[0m \u001b[0mglobal_dict\u001b[0m\u001b[0;34m)\u001b[0m\u001b[0;34m\u001b[0m\u001b[0;34m\u001b[0m\u001b[0m\n\u001b[0m\u001b[1;32m     62\u001b[0m     \u001b[0;32mfinally\u001b[0m\u001b[0;34m:\u001b[0m\u001b[0;34m\u001b[0m\u001b[0;34m\u001b[0m\u001b[0m\n\u001b[1;32m     63\u001b[0m         \u001b[0msys\u001b[0m\u001b[0;34m.\u001b[0m\u001b[0msetdlopenflags\u001b[0m\u001b[0;34m(\u001b[0m\u001b[0morig_dlopen_flags\u001b[0m\u001b[0;34m)\u001b[0m  \u001b[0;31m# reset it to normal case to\u001b[0m\u001b[0;34m\u001b[0m\u001b[0;34m\u001b[0m\u001b[0m\n",
      "\u001b[0;32m~/anaconda3/lib/python3.6/site-packages/graph_tool/__init__.py\u001b[0m in \u001b[0;36m<module>\u001b[0;34m\u001b[0m\n",
      "\u001b[0;31mImportError\u001b[0m: dlopen(/Users/luvela/anaconda3/lib/python3.6/site-packages/graph_tool/libgraph_tool_core.so, 9): Library not loaded: @rpath/libboost_python3.dylib\n  Referenced from: /Users/luvela/anaconda3/lib/python3.6/site-packages/graph_tool/libgraph_tool_core.so\n  Reason: image not found"
     ]
    }
   ],
   "source": [
    "from graph_tool.all import *"
   ]
  },
  {
   "cell_type": "markdown",
   "metadata": {},
   "source": [
    "# Get tagged words"
   ]
  },
  {
   "cell_type": "code",
   "execution_count": 6,
   "metadata": {},
   "outputs": [
    {
     "name": "stdout",
     "output_type": "stream",
     "text": [
      "Total entries in df:  124502\n",
      "Unique summaries in df:  29417\n"
     ]
    },
    {
     "data": {
      "text/html": [
       "<div>\n",
       "<style scoped>\n",
       "    .dataframe tbody tr th:only-of-type {\n",
       "        vertical-align: middle;\n",
       "    }\n",
       "\n",
       "    .dataframe tbody tr th {\n",
       "        vertical-align: top;\n",
       "    }\n",
       "\n",
       "    .dataframe thead th {\n",
       "        text-align: right;\n",
       "    }\n",
       "</style>\n",
       "<table border=\"1\" class=\"dataframe\">\n",
       "  <thead>\n",
       "    <tr style=\"text-align: right;\">\n",
       "      <th></th>\n",
       "      <th>Id</th>\n",
       "      <th>start</th>\n",
       "      <th>end</th>\n",
       "      <th>disease_tag</th>\n",
       "      <th>ont</th>\n",
       "      <th>unique_id</th>\n",
       "    </tr>\n",
       "  </thead>\n",
       "  <tbody>\n",
       "    <tr>\n",
       "      <th>0</th>\n",
       "      <td>200000001</td>\n",
       "      <td>56</td>\n",
       "      <td>85</td>\n",
       "      <td>cutaneous malignant melanomas</td>\n",
       "      <td>OMIM</td>\n",
       "      <td>155600</td>\n",
       "    </tr>\n",
       "    <tr>\n",
       "      <th>1</th>\n",
       "      <td>200000003</td>\n",
       "      <td>0</td>\n",
       "      <td>20</td>\n",
       "      <td>Renal Cell Carcinoma</td>\n",
       "      <td>MESH</td>\n",
       "      <td>D002292</td>\n",
       "    </tr>\n",
       "    <tr>\n",
       "      <th>2</th>\n",
       "      <td>200000003</td>\n",
       "      <td>141</td>\n",
       "      <td>154</td>\n",
       "      <td>kidney cancer</td>\n",
       "      <td>MESH</td>\n",
       "      <td>D007680</td>\n",
       "    </tr>\n",
       "    <tr>\n",
       "      <th>3</th>\n",
       "      <td>200000003</td>\n",
       "      <td>245</td>\n",
       "      <td>290</td>\n",
       "      <td>neoplastic and non-cancerous renal epithelium</td>\n",
       "      <td>MESH</td>\n",
       "      <td>D007680</td>\n",
       "    </tr>\n",
       "    <tr>\n",
       "      <th>4</th>\n",
       "      <td>200000003</td>\n",
       "      <td>656</td>\n",
       "      <td>668</td>\n",
       "      <td>renal cancer</td>\n",
       "      <td>MESH</td>\n",
       "      <td>D007680</td>\n",
       "    </tr>\n",
       "  </tbody>\n",
       "</table>\n",
       "</div>"
      ],
      "text/plain": [
       "          Id start  end                                    disease_tag   ont  \\\n",
       "0  200000001    56   85                  cutaneous malignant melanomas  OMIM   \n",
       "1  200000003     0   20                           Renal Cell Carcinoma  MESH   \n",
       "2  200000003   141  154                                  kidney cancer  MESH   \n",
       "3  200000003   245  290  neoplastic and non-cancerous renal epithelium  MESH   \n",
       "4  200000003   656  668                                   renal cancer  MESH   \n",
       "\n",
       "  unique_id  \n",
       "0    155600  \n",
       "1   D002292  \n",
       "2   D007680  \n",
       "3   D007680  \n",
       "4   D007680  "
      ]
     },
     "execution_count": 6,
     "metadata": {},
     "output_type": "execute_result"
    }
   ],
   "source": [
    "# Set name of file\n",
    "filename = '../data/interim/disease_tags.pkl'\n",
    "\n",
    "# Read to DataFrame\n",
    "df = pd.read_pickle(filename)\n",
    "\n",
    "# Echo\n",
    "print('Total entries in df: ', df.shape[0])\n",
    "print('Unique summaries in df: ', df['Id'].nunique())\n",
    "df.head()"
   ]
  },
  {
   "cell_type": "markdown",
   "metadata": {},
   "source": [
    "# Extract titles"
   ]
  },
  {
   "cell_type": "code",
   "execution_count": 8,
   "metadata": {},
   "outputs": [
    {
     "data": {
      "text/html": [
       "<div>\n",
       "<style scoped>\n",
       "    .dataframe tbody tr th:only-of-type {\n",
       "        vertical-align: middle;\n",
       "    }\n",
       "\n",
       "    .dataframe tbody tr th {\n",
       "        vertical-align: top;\n",
       "    }\n",
       "\n",
       "    .dataframe thead th {\n",
       "        text-align: right;\n",
       "    }\n",
       "</style>\n",
       "<table border=\"1\" class=\"dataframe\">\n",
       "  <thead>\n",
       "    <tr style=\"text-align: right;\">\n",
       "      <th></th>\n",
       "      <th>id</th>\n",
       "      <th>label</th>\n",
       "    </tr>\n",
       "  </thead>\n",
       "  <tbody>\n",
       "    <tr>\n",
       "      <th>0</th>\n",
       "      <td>OMIM:155600</td>\n",
       "      <td>cutaneous malignant melanomas</td>\n",
       "    </tr>\n",
       "    <tr>\n",
       "      <th>1</th>\n",
       "      <td>MESH:D002292</td>\n",
       "      <td>Renal Cell Carcinoma</td>\n",
       "    </tr>\n",
       "    <tr>\n",
       "      <th>2</th>\n",
       "      <td>MESH:D007680</td>\n",
       "      <td>kidney cancer</td>\n",
       "    </tr>\n",
       "    <tr>\n",
       "      <th>6</th>\n",
       "      <td>MESH:D007674</td>\n",
       "      <td>kidney tumor</td>\n",
       "    </tr>\n",
       "    <tr>\n",
       "      <th>7</th>\n",
       "      <td>MESH:D002277</td>\n",
       "      <td>epithelial tumors</td>\n",
       "    </tr>\n",
       "  </tbody>\n",
       "</table>\n",
       "</div>"
      ],
      "text/plain": [
       "             id                          label\n",
       "0   OMIM:155600  cutaneous malignant melanomas\n",
       "1  MESH:D002292           Renal Cell Carcinoma\n",
       "2  MESH:D007680                  kidney cancer\n",
       "6  MESH:D007674                   kidney tumor\n",
       "7  MESH:D002277              epithelial tumors"
      ]
     },
     "execution_count": 8,
     "metadata": {},
     "output_type": "execute_result"
    }
   ],
   "source": [
    "# Load relevant columns\n",
    "names = pd.DataFrame(df['ont unique_id disease_tag'.split()])\n",
    "\n",
    "# Construct id and label fields\n",
    "names['id'] = names['ont']+':'+names['unique_id']\n",
    "names['label']=names['disease_tag']\n",
    "\n",
    "# Drop unnecesary fields\n",
    "names.drop(labels='ont unique_id disease_tag'.split(),axis=1, inplace=True)\n",
    "\n",
    "# Delete duplicates\n",
    "names.drop_duplicates(subset='id', keep='first',inplace=True)\n",
    "\n",
    "# Delete NaN's\n",
    "names.dropna(axis=0,inplace=True)\n",
    "\n",
    "# Save to .csv\n",
    "names.to_csv('titles.csv', index=False)\n",
    "\n",
    "# Echo\n",
    "names.head()"
   ]
  },
  {
   "cell_type": "markdown",
   "metadata": {},
   "source": [
    "# Extract Links 1: Clean Data"
   ]
  },
  {
   "cell_type": "code",
   "execution_count": 10,
   "metadata": {},
   "outputs": [
    {
     "name": "stdout",
     "output_type": "stream",
     "text": [
      "Unique summaries in tags:  28346\n",
      "Total tags after cleaning:  61625\n"
     ]
    },
    {
     "data": {
      "text/html": [
       "<div>\n",
       "<style scoped>\n",
       "    .dataframe tbody tr th:only-of-type {\n",
       "        vertical-align: middle;\n",
       "    }\n",
       "\n",
       "    .dataframe tbody tr th {\n",
       "        vertical-align: top;\n",
       "    }\n",
       "\n",
       "    .dataframe thead th {\n",
       "        text-align: right;\n",
       "    }\n",
       "</style>\n",
       "<table border=\"1\" class=\"dataframe\">\n",
       "  <thead>\n",
       "    <tr style=\"text-align: right;\">\n",
       "      <th></th>\n",
       "      <th>year</th>\n",
       "      <th>summary_id</th>\n",
       "      <th>disease_id</th>\n",
       "    </tr>\n",
       "  </thead>\n",
       "  <tbody>\n",
       "    <tr>\n",
       "      <th>0</th>\n",
       "      <td>2017</td>\n",
       "      <td>200000001</td>\n",
       "      <td>OMIM:155600</td>\n",
       "    </tr>\n",
       "    <tr>\n",
       "      <th>1</th>\n",
       "      <td>2017</td>\n",
       "      <td>200000003</td>\n",
       "      <td>MESH:D002292</td>\n",
       "    </tr>\n",
       "    <tr>\n",
       "      <th>2</th>\n",
       "      <td>2017</td>\n",
       "      <td>200000003</td>\n",
       "      <td>MESH:D007680</td>\n",
       "    </tr>\n",
       "    <tr>\n",
       "      <th>6</th>\n",
       "      <td>2017</td>\n",
       "      <td>200000003</td>\n",
       "      <td>MESH:D007674</td>\n",
       "    </tr>\n",
       "    <tr>\n",
       "      <th>7</th>\n",
       "      <td>2017</td>\n",
       "      <td>200000003</td>\n",
       "      <td>MESH:D002277</td>\n",
       "    </tr>\n",
       "  </tbody>\n",
       "</table>\n",
       "</div>"
      ],
      "text/plain": [
       "   year summary_id    disease_id\n",
       "0  2017  200000001   OMIM:155600\n",
       "1  2017  200000003  MESH:D002292\n",
       "2  2017  200000003  MESH:D007680\n",
       "6  2017  200000003  MESH:D007674\n",
       "7  2017  200000003  MESH:D002277"
      ]
     },
     "execution_count": 10,
     "metadata": {},
     "output_type": "execute_result"
    }
   ],
   "source": [
    "# Exclude start/end/disease_tag columns\n",
    "tags = pd.DataFrame(df['Id ont unique_id'.split()])\n",
    "\n",
    "# Drop NaNs\n",
    "tags.dropna(axis=0,inplace=True)\n",
    "\n",
    "# Rename fields, create combined field 'ont:unique_id', create repetition field.\n",
    "tags['summary_id'] = tags['Id']\n",
    "tags['disease_id'] = tags['ont']+':'+tags['unique_id']\n",
    "tags['year'] = 2017 \n",
    "\n",
    "# Leave only important fields\n",
    "tags = tags['year summary_id disease_id'.split()]\n",
    "\n",
    "# Delete duplicates\n",
    "tags = tags.drop_duplicates()\n",
    "\n",
    "# Echo\n",
    "print('Unique summaries in tags: ', tags['summary_id'].nunique())\n",
    "print('Total tags after cleaning: ', tags.shape[0])\n",
    "tags.head()"
   ]
  },
  {
   "cell_type": "markdown",
   "metadata": {},
   "source": [
    "# Extract Links: Choose summaries with +1 tag"
   ]
  },
  {
   "cell_type": "code",
   "execution_count": 11,
   "metadata": {},
   "outputs": [
    {
     "data": {
      "text/html": [
       "<div>\n",
       "<style scoped>\n",
       "    .dataframe tbody tr th:only-of-type {\n",
       "        vertical-align: middle;\n",
       "    }\n",
       "\n",
       "    .dataframe tbody tr th {\n",
       "        vertical-align: top;\n",
       "    }\n",
       "\n",
       "    .dataframe thead th {\n",
       "        text-align: right;\n",
       "    }\n",
       "</style>\n",
       "<table border=\"1\" class=\"dataframe\">\n",
       "  <thead>\n",
       "    <tr style=\"text-align: right;\">\n",
       "      <th></th>\n",
       "      <th>year</th>\n",
       "      <th>summary_id</th>\n",
       "      <th>disease_id</th>\n",
       "    </tr>\n",
       "  </thead>\n",
       "  <tbody>\n",
       "    <tr>\n",
       "      <th>0</th>\n",
       "      <td>2017</td>\n",
       "      <td>200000003</td>\n",
       "      <td>MESH:D002292</td>\n",
       "    </tr>\n",
       "    <tr>\n",
       "      <th>1</th>\n",
       "      <td>2017</td>\n",
       "      <td>200000003</td>\n",
       "      <td>MESH:D007680</td>\n",
       "    </tr>\n",
       "    <tr>\n",
       "      <th>2</th>\n",
       "      <td>2017</td>\n",
       "      <td>200000003</td>\n",
       "      <td>MESH:D007674</td>\n",
       "    </tr>\n",
       "    <tr>\n",
       "      <th>3</th>\n",
       "      <td>2017</td>\n",
       "      <td>200000003</td>\n",
       "      <td>MESH:D002277</td>\n",
       "    </tr>\n",
       "    <tr>\n",
       "      <th>4</th>\n",
       "      <td>2017</td>\n",
       "      <td>200000014</td>\n",
       "      <td>MESH:D009369</td>\n",
       "    </tr>\n",
       "  </tbody>\n",
       "</table>\n",
       "</div>"
      ],
      "text/plain": [
       "   year summary_id    disease_id\n",
       "0  2017  200000003  MESH:D002292\n",
       "1  2017  200000003  MESH:D007680\n",
       "2  2017  200000003  MESH:D007674\n",
       "3  2017  200000003  MESH:D002277\n",
       "4  2017  200000014  MESH:D009369"
      ]
     },
     "execution_count": 11,
     "metadata": {},
     "output_type": "execute_result"
    }
   ],
   "source": [
    "# Count tags per summary\n",
    "tags_by_summary = tags['summary_id disease_id'.split()].groupby('summary_id').count().reset_index()\n",
    "\n",
    "# Select abstracts with more than one tag\n",
    "good_summaries = tags_by_summary[tags_by_summary['disease_id']>1]\n",
    "\n",
    "# Inner Join\n",
    "clean_tags = pd.merge(tags, good_summaries, on='summary_id')\n",
    "\n",
    "# Rename columns\n",
    "clean_tags.rename(columns={'disease_id_x':'disease_id'}, inplace=True)\n",
    "\n",
    "# Drop extra column\n",
    "clean_tags = clean_tags['year summary_id disease_id'.split()]\n",
    "\n",
    "# Echo\n",
    "clean_tags.head()"
   ]
  },
  {
   "cell_type": "markdown",
   "metadata": {},
   "source": [
    "# Extract Links 3: Construct ( Source, Target) tuples"
   ]
  },
  {
   "cell_type": "code",
   "execution_count": 13,
   "metadata": {},
   "outputs": [
    {
     "name": "stdout",
     "output_type": "stream",
     "text": [
      "CPU times: user 3min 41s, sys: 436 ms, total: 3min 42s\n",
      "Wall time: 3min 42s\n"
     ]
    }
   ],
   "source": [
    "%%time \n",
    "# About 4 minutes\n",
    "\n",
    "# Import library for combinatorics\n",
    "import itertools\n",
    "\n",
    "# Define list of tuples\n",
    "links = list()\n",
    "\n",
    "# Cycle through summary ids\n",
    "for summary in clean_tags['summary_id']:\n",
    "    \n",
    "    # Select all tags for this summary\n",
    "    tagos = clean_tags[clean_tags['summary_id']==summary]['disease_id']\n",
    "    \n",
    "    # Append all possible pairs\n",
    "    links.extend(list(itertools.combinations(tagos,2)))"
   ]
  },
  {
   "cell_type": "markdown",
   "metadata": {},
   "source": [
    "# Extract Links 4: Construct Weights"
   ]
  },
  {
   "cell_type": "code",
   "execution_count": 14,
   "metadata": {},
   "outputs": [
    {
     "data": {
      "text/html": [
       "<div>\n",
       "<style scoped>\n",
       "    .dataframe tbody tr th:only-of-type {\n",
       "        vertical-align: middle;\n",
       "    }\n",
       "\n",
       "    .dataframe tbody tr th {\n",
       "        vertical-align: top;\n",
       "    }\n",
       "\n",
       "    .dataframe thead th {\n",
       "        text-align: right;\n",
       "    }\n",
       "</style>\n",
       "<table border=\"1\" class=\"dataframe\">\n",
       "  <thead>\n",
       "    <tr style=\"text-align: right;\">\n",
       "      <th></th>\n",
       "      <th>Source</th>\n",
       "      <th>Target</th>\n",
       "      <th>Weight</th>\n",
       "    </tr>\n",
       "  </thead>\n",
       "  <tbody>\n",
       "    <tr>\n",
       "      <th>0</th>\n",
       "      <td>MESH:C531600</td>\n",
       "      <td>MESH:C537901</td>\n",
       "      <td>0.000694</td>\n",
       "    </tr>\n",
       "    <tr>\n",
       "      <th>1</th>\n",
       "      <td>MESH:C531600</td>\n",
       "      <td>MESH:D002276</td>\n",
       "      <td>0.001735</td>\n",
       "    </tr>\n",
       "    <tr>\n",
       "      <th>2</th>\n",
       "      <td>MESH:C531600</td>\n",
       "      <td>MESH:D009369</td>\n",
       "      <td>0.001735</td>\n",
       "    </tr>\n",
       "    <tr>\n",
       "      <th>3</th>\n",
       "      <td>MESH:C531623</td>\n",
       "      <td>MESH:C538007</td>\n",
       "      <td>0.002776</td>\n",
       "    </tr>\n",
       "    <tr>\n",
       "      <th>4</th>\n",
       "      <td>MESH:C531623</td>\n",
       "      <td>MESH:D006330</td>\n",
       "      <td>0.002776</td>\n",
       "    </tr>\n",
       "  </tbody>\n",
       "</table>\n",
       "</div>"
      ],
      "text/plain": [
       "         Source        Target    Weight\n",
       "0  MESH:C531600  MESH:C537901  0.000694\n",
       "1  MESH:C531600  MESH:D002276  0.001735\n",
       "2  MESH:C531600  MESH:D009369  0.001735\n",
       "3  MESH:C531623  MESH:C538007  0.002776\n",
       "4  MESH:C531623  MESH:D006330  0.002776"
      ]
     },
     "execution_count": 14,
     "metadata": {},
     "output_type": "execute_result"
    }
   ],
   "source": [
    "# Construct DataFrame with named columns Source and Target\n",
    "lynx = pd.DataFrame(links, columns='Source Target'.split())\n",
    "\n",
    "# Define Weight columns with default value 1 \n",
    "lynx['Weight'] = 1\n",
    "\n",
    "# Count repetitions of the same (Source,Target)-tuple\n",
    "lynx = lynx.groupby('Source Target'.split()).count().reset_index()#.sort_values(by='counts',ascending=False)\n",
    "\n",
    "# Normalize Weights to Unity\n",
    "lynx['Weight'] = lynx['Weight']/lynx['Weight'].max()\n",
    "\n",
    "# Export to .csv\n",
    "lynx.to_csv('links.csv', index=False)\n",
    "\n",
    "# Echo\n",
    "lynx.head()"
   ]
  }
 ],
 "metadata": {
  "kernelspec": {
   "display_name": "Python 3",
   "language": "python",
   "name": "python3"
  },
  "language_info": {
   "codemirror_mode": {
    "name": "ipython",
    "version": 3
   },
   "file_extension": ".py",
   "mimetype": "text/x-python",
   "name": "python",
   "nbconvert_exporter": "python",
   "pygments_lexer": "ipython3",
   "version": "3.7.1"
  }
 },
 "nbformat": 4,
 "nbformat_minor": 2
}
