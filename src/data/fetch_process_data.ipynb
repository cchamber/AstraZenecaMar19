{
 "cells": [
  {
   "cell_type": "markdown",
   "metadata": {
    "deletable": true,
    "editable": true
   },
   "source": [
    "<h1>Fetch and Process Data</h1>\n",
    "\n",
    "Follow the instructions and execute the script to fetch and process records and samples from the geo database and to generate a dataframe with all mesh ids and their corresponding mesh headings and main categories \n",
    "<h2>Input</h2>\n",
    "<h3>Search query</h3>\n",
    "<h4>String input</h4>\n",
    "First, input search terms that shall be contained in the desired geo DataSets. Please look at\n",
    "(https://www.ncbi.nlm.nih.gov/geo/info/qqtutorial.html)\n",
    "for all possibilities. To construct a complex query, specify the search terms, their fields, and the Boolean operations to perform on the terms using the following syntax:\n",
    "\n",
    "`term [field] OPERATOR term [field]`\n",
    "\n",
    "where \n",
    "- `term` is the search term, e.g. GSE for geo database series\n",
    "- `[field]` is the search field, e.g. [ETYP] to specify the record type (GDS - DataSet, GSE - Series, GPL - Platform), [Organism] to specify the subject of studies (Homo Sapies - humans, see more below)\n",
    "- `OPERATOR` is the Boolean operator ('AND', 'OR', 'NOT') which must be capitalized.\n",
    "\n",
    "When you press enter without giving a string expression for the query, the following standard query is performed,\n",
    "\n",
    "`GSE[ETYP] AND Homo[Organism]`\n",
    "\n",
    "which fetches all geo series with studies on humans. The following list shows the most used terms for [field]=[Organism]:\n",
    "1. Homo sapiens (human)\n",
    "2. Mus musculus (house mouse)\n",
    "3. Rattus norvegicus (brown rat)\n",
    "4. Macaca mulatta (rhesus macaque)\n",
    "5. Drosophila melanogaster (common fruit fly)\n",
    "\n",
    "<h4>Number of studies to be retrieved</h4>\n",
    "Next, specify the number of geo database entries, N>0, that you wish to extract. If you input N<=0 or nothing, all found geo database entries for the search query will be fetched\n",
    "\n",
    "<h2>Final Output</h2>\n",
    "This script fetches the data and processes it and outputs two pandas dataframes. Note that BASE denotes the name of the mainfolder ot the repository here:\n",
    "- BASE/data/final/geo.pkl\n",
    "\n",
    "    *contains all geo datasets ids together with their dates and number of samples included. In further columns the corresponding mesh ids, the category of the mesh ids and the method of obtaining the mesh ids are specified (a) DNORM when via the tagging tool DNORM b) PMID when following the id of pubmed publications that are already tagged with mesh ids)*\n",
    "- BASE/data/final/mesh.pkl\n",
    "\n",
    "    *contains all mesh ids in one column together with mesh headings in a second column and mesh tree numbers in a third column *"
   ]
  },
  {
   "cell_type": "code",
   "execution_count": null,
   "metadata": {
    "collapsed": false,
    "deletable": true,
    "editable": true,
    "scrolled": false
   },
   "outputs": [],
   "source": [
    "import os\n",
    "#execute scripts\n",
    "%run fetch_store_geo_series.py\n",
    "%run parse_raw_data.py\n",
    "%run id_name_tree_generation.py\n",
    "%run meshtags_pmid.py\n",
    "%run meshtags_dnorm_restful_api.py\n",
    "%run unify_finalize_geo_to_mesh_dfs.py"
   ]
  }
 ],
 "metadata": {
  "kernelspec": {
   "display_name": "Python 3",
   "language": "python",
   "name": "python3"
  },
  "language_info": {
   "codemirror_mode": {
    "name": "ipython",
    "version": 3
   },
   "file_extension": ".py",
   "mimetype": "text/x-python",
   "name": "python",
   "nbconvert_exporter": "python",
   "pygments_lexer": "ipython3",
   "version": "3.5.2"
  }
 },
 "nbformat": 4,
 "nbformat_minor": 2
}
