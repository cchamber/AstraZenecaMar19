{
 "cells": [
  {
   "cell_type": "markdown",
   "metadata": {},
   "source": [
    "# Import"
   ]
  },
  {
   "cell_type": "code",
   "execution_count": null,
   "metadata": {},
   "outputs": [],
   "source": [
    "import matplotlib.pyplot as plt\n",
    "import pandas as pd\n",
    "import numpy as np\n",
    "import networkx as nx\n",
    "import pygraphviz\n",
    "from networkx.drawing.nx_agraph import graphviz_layout"
   ]
  },
  {
   "cell_type": "markdown",
   "metadata": {},
   "source": [
    "# Gathering edges"
   ]
  },
  {
   "cell_type": "code",
   "execution_count": null,
   "metadata": {},
   "outputs": [],
   "source": [
    "# Load daughter-father file\n",
    "edges = pd.read_csv('../../data/final/disease_parent_treenumbers.csv')\n",
    "\n",
    "# Rename\n",
    "edges.rename(columns={'Diease_TreeNumber':'Disease', 'Parent_TreeNumber': 'Parent'}, inplace=True)\n",
    "\n",
    "# Echo\n",
    "edges.head()"
   ]
  },
  {
   "cell_type": "markdown",
   "metadata": {},
   "source": [
    "# Gathering nodes"
   ]
  },
  {
   "cell_type": "code",
   "execution_count": null,
   "metadata": {},
   "outputs": [],
   "source": [
    "#Load labels\n",
    "nodes = pd.read_csv('../../data/final/disease_tree_heading_count.csv')\n",
    "\n",
    "# Rename columns\n",
    "nodes.rename(columns={\n",
    "    'Diease_TreeNumber':'Disease',\n",
    "    'Disease_Mesh_Heading':'Label',\n",
    "    'Disease_Count':'Counts'}, inplace=True)\n",
    "\n",
    "# Rescale counts\n",
    "nodes.Counts = 1+np.log(1+nodes.Counts)\n",
    "\n",
    "# Echo\n",
    "nodes.head()"
   ]
  },
  {
   "cell_type": "markdown",
   "metadata": {},
   "source": [
    "# Construct graph"
   ]
  },
  {
   "cell_type": "code",
   "execution_count": null,
   "metadata": {},
   "outputs": [],
   "source": [
    "# Construct whole Hierachical tree (Arrow from parent to daughter)\n",
    "g = nx.from_pandas_edgelist(edges, \n",
    "                            source='Parent', \n",
    "                            target='Disease', \n",
    "                            create_using=nx.DiGraph)\n",
    "\n",
    "# Add nodes attributes - Labels\n",
    "labels = nodes['Disease Label'.split()].set_index('Disease').to_dict()['Label']\n",
    "nx.set_node_attributes(g, labels, 'Label')\n",
    "\n",
    "# Add nodes attributes - Counts\n",
    "counts = nodes['Disease Counts'.split()].set_index('Disease').to_dict()['Counts']\n",
    "nx.set_node_attributes(g, counts, 'Counts')\n",
    "\n",
    "# Save to gephi\n",
    "nx.write_gexf(g, 'Hierarchy.gexf')\n",
    "\n",
    "# Echo info\n",
    "print('  Size (Nodes): ', g.size())\n",
    "print(' Order (Edges): ', g.order())\n",
    "print(' Graph Density: ', nx.density(g))"
   ]
  },
  {
   "cell_type": "code",
   "execution_count": null,
   "metadata": {},
   "outputs": [],
   "source": [
    "# Get positions from graphviz_layout\n",
    "pos = graphviz_layout(g, prog='sfdp', args='')\n",
    "\n",
    "# Plot\n",
    "plt.figure(figsize=(10, 10))\n",
    "nx.draw(g, pos, node_size=5, alpha=0.5, node_color=\"blue\", with_labels=False)\n",
    "plt.axis('equal')\n",
    "plt.show()"
   ]
  },
  {
   "cell_type": "markdown",
   "metadata": {},
   "source": [
    "# End"
   ]
  }
 ],
 "metadata": {
  "kernelspec": {
   "display_name": "Python 3",
   "language": "python",
   "name": "python3"
  },
  "language_info": {
   "codemirror_mode": {
    "name": "ipython",
    "version": 3
   },
   "file_extension": ".py",
   "mimetype": "text/x-python",
   "name": "python",
   "nbconvert_exporter": "python",
   "pygments_lexer": "ipython3",
   "version": "3.7.1"
  }
 },
 "nbformat": 4,
 "nbformat_minor": 2
}
