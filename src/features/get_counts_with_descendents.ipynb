{
 "cells": [
  {
   "cell_type": "code",
   "execution_count": null,
   "metadata": {},
   "outputs": [],
   "source": [
    "# get n occurrences based on number of series\n",
    "# this overlaps with Arun's file that computes counts, can be used to compare\n",
    "# note that gender and supplemental concept records (SCR) have no treenumber and will be excluded\n",
    "# this takes 1-2 hours to run\n",
    "\n",
    "import pandas as pd\n",
    "import numpy as np\n",
    "import os\n",
    "\n",
    "# load tree\n",
    "path = '../../data/final'\n",
    "tree_file = 'mesh.pkl'\n",
    "trdf = pd.read_pickle(os.path.join(path, tree_file))\n",
    "\n",
    "# load tags\n",
    "tag_file ='geo_filtered.pkl'\n",
    "tadf = pd.read_pickle(os.path.join(path, tag_file))\n",
    "tadf['year'] = (tadf.date.str[:4]).astype(int) # year\n",
    "tadf = pd.merge(tadf,trdf[['mesh_id', 'mesh_treenumbers']], on='mesh_id', how='left')\n",
    "\n",
    "tadf['for_counts'] = 1\n",
    "\n",
    "def get_unique_occurrences(tadf,mesh_and_tree, imesh):\n",
    "    tree_list = mesh_and_tree[np.isin(mesh_and_tree.mesh_id,imesh)].mesh_treenumbers.to_list()\n",
    "    geo_list = []\n",
    "    for itree in tree_list: \n",
    "        geo_list_aux = tadf.loc[tadf.mesh_treenumbers.str[:len(itree)]==itree,'geo_id'].to_list()\n",
    "        geo_list+=geo_list_aux\n",
    "    n_geo = len(np.unique(np.array(geo_list)))\n",
    "    return n_geo\n",
    "\n",
    "mesh_and_tree = tadf.groupby(['mesh_id', 'mesh_treenumbers']).for_counts.mean().reset_index()\n",
    "unique_mesh = tadf.mesh_id.unique()\n",
    "\n",
    "n_geo_list = []\n",
    "for imesh in unique_mesh:\n",
    "    n_geo = get_unique_occurrences(tadf,mesh_and_tree, imesh)\n",
    "    n_geo_list.append(n_geo)\n",
    "\n",
    "n_mentions_by_disease_descendents = pd.DataFrame.from_dict({'mesh_id':pd.Series(unique_mesh) , 'n': pd.Series(n_geo_list)})\n",
    "n_mentions_by_disease_descendents = n_mentions_by_disease_descendents.sort_values('n')\n",
    "n_mentions_by_disease_descendents = n_mentions_by_disease_descendents.loc[n_mentions_by_disease_descendents.n!=0]\n",
    "n_mentions_by_disease_descendents = n_mentions_by_disease_descendents.sort_values('n', ascending=False).reset_index(drop=True)\n",
    "n_mentions_by_disease_descendents.to_pickle('../../data/final/meshids_rankedby_NSeries.pkl')"
   ]
  }
 ],
 "metadata": {
  "kernelspec": {
   "display_name": "Python 3",
   "language": "python",
   "name": "python3"
  },
  "language_info": {
   "codemirror_mode": {
    "name": "ipython",
    "version": 3
   },
   "file_extension": ".py",
   "mimetype": "text/x-python",
   "name": "python",
   "nbconvert_exporter": "python",
   "pygments_lexer": "ipython3",
   "version": "3.7.1"
  }
 },
 "nbformat": 4,
 "nbformat_minor": 2
}
