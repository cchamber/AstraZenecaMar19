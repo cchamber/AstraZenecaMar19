{
 "cells": [
  {
   "cell_type": "code",
   "execution_count": 11,
   "metadata": {},
   "outputs": [],
   "source": [
    "# This notebook takes original geo and removes meshids where concept \n",
    "# also falls into other category (e.g. animal models of disease, disease progression)\n",
    "\n",
    "# remove entries with tree number starting with C23 as this category is methodology related\n",
    "\n",
    "import pandas as pd\n",
    "import numpy as np\n",
    "import os\n",
    "\n",
    "path = '../../data/final'\n",
    "tree_file = 'mesh.pkl'\n",
    "geo_file = 'geo.pkl'\n",
    "\n",
    "save_to = '../../data/final/geo_filtered.pkl'\n",
    "\n",
    "mesh_df = pd.read_pickle(os.path.join(path, tree_file))\n",
    "mesh_df['aux'] = 1\n",
    "tags_df = pd.read_pickle(os.path.join(path, geo_file))\n",
    "\n",
    "mask_only_in = mesh_df.groupby(['mesh_heading', 'category']).aux.mean().reset_index()\n",
    "mask_only_in_1 = (mask_only_in.groupby('mesh_heading').sum()==1).reset_index()\n",
    "mask_only_in_1 = mask_only_in_1.loc[mask_only_in_1.aux==True,:]\n",
    "mesh_headings_only_in_1 = mask_only_in_1.mesh_heading.to_list()\n",
    "tags_df = tags_df[np.isin(tags_df.mesh_heading, mesh_headings_only_in_1)]\n",
    "\n",
    "# remove C23\n",
    "tags_df = pd.merge(tags_df, mesh_df[['mesh_id','mesh_treenumbers']], on='mesh_id', how='left')\n",
    "tags_df = tags_df.loc[tags_df.mesh_treenumbers.str[:3]!='C23',:]\n",
    "tags_df = tags_df.drop('mesh_treenumbers',axis=1)\n",
    "\n",
    "tags_df.to_pickle(save_to)"
   ]
  },
  {
   "cell_type": "code",
   "execution_count": null,
   "metadata": {},
   "outputs": [],
   "source": []
  }
 ],
 "metadata": {
  "kernelspec": {
   "display_name": "Python 3",
   "language": "python",
   "name": "python3"
  },
  "language_info": {
   "codemirror_mode": {
    "name": "ipython",
    "version": 3
   },
   "file_extension": ".py",
   "mimetype": "text/x-python",
   "name": "python",
   "nbconvert_exporter": "python",
   "pygments_lexer": "ipython3",
   "version": "3.7.1"
  }
 },
 "nbformat": 4,
 "nbformat_minor": 2
}
